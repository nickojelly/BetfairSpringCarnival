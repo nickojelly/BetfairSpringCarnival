{
 "cells": [
  {
   "cell_type": "code",
   "execution_count": 1,
   "metadata": {},
   "outputs": [],
   "source": [
    "import pandas as pd\n",
    "import os\n",
    "import tqdm\n",
    "from sklearn.preprocessing import OneHotEncoder\n",
    "import utils.featurecreations as featurecreations\n",
    "import importlib"
   ]
  },
  {
   "cell_type": "code",
   "execution_count": 2,
   "metadata": {},
   "outputs": [],
   "source": [
    "# dfs = []\n",
    "# for file in os.listdir('data'):\n",
    "#     try:\n",
    "#         df = pd.read_excel(f'data/{file}')\n",
    "#         dfs.append(df)\n",
    "#     except:\n",
    "#         pass"
   ]
  },
  {
   "cell_type": "code",
   "execution_count": 3,
   "metadata": {},
   "outputs": [],
   "source": [
    "# data = pd.concat(dfs)"
   ]
  },
  {
   "cell_type": "code",
   "execution_count": 4,
   "metadata": {},
   "outputs": [],
   "source": [
    "# data = data.reset_index(drop=True)"
   ]
  },
  {
   "cell_type": "code",
   "execution_count": 5,
   "metadata": {},
   "outputs": [],
   "source": [
    "# data.to_csv('all_races_data.csv')"
   ]
  },
  {
   "cell_type": "code",
   "execution_count": 6,
   "metadata": {},
   "outputs": [],
   "source": [
    "df = pd.read_feather('all_races_data.fth')"
   ]
  },
  {
   "cell_type": "code",
   "execution_count": 7,
   "metadata": {},
   "outputs": [],
   "source": [
    "data = df"
   ]
  },
  {
   "cell_type": "code",
   "execution_count": 8,
   "metadata": {},
   "outputs": [],
   "source": [
    "data['meetingId'] = data['meetingId'].astype(int).astype(str)\n",
    "data['raceId'] = data['raceId'].astype(int).astype(str)\n",
    "data['horseId'] = data['horseId'].astype(int).astype(str)"
   ]
  },
  {
   "cell_type": "code",
   "execution_count": 9,
   "metadata": {},
   "outputs": [],
   "source": [
    "stats_cols = ['RPR', 'RPP', 'WP20R', 'WP20P', 'TP20R', 'TP20P', 'WPTP20R',\n",
    "       'WPTP20P', 'RSFI', 'ScRank', 'SPrice', 'PFScore', 'PrSe', 'AHSP',\n",
    "       ]"
   ]
  },
  {
   "cell_type": "code",
   "execution_count": 10,
   "metadata": {},
   "outputs": [
    {
     "data": {
      "text/plain": [
       "0      op/mf\n",
       "1      op/mf\n",
       "2    no data\n",
       "3      mf/bm\n",
       "4      mf/bm\n",
       "Name: RunStyle, dtype: object"
      ]
     },
     "execution_count": 10,
     "metadata": {},
     "output_type": "execute_result"
    }
   ],
   "source": [
    "data.RunStyle.head()"
   ]
  },
  {
   "cell_type": "code",
   "execution_count": 11,
   "metadata": {},
   "outputs": [
    {
     "data": {
      "text/plain": [
       "RunStyle\n",
       "mf         99023\n",
       "bm         96145\n",
       "op         67851\n",
       "op/mf      63275\n",
       "mf/bm      60258\n",
       "l          29478\n",
       "no data    26594\n",
       "Name: count, dtype: int64"
      ]
     },
     "execution_count": 11,
     "metadata": {},
     "output_type": "execute_result"
    }
   ],
   "source": [
    "data.RunStyle.value_counts()"
   ]
  },
  {
   "cell_type": "code",
   "execution_count": 12,
   "metadata": {},
   "outputs": [],
   "source": [
    "run_style_ohe = OneHotEncoder(sparse_output=False)\n",
    "run_style_one_hot = run_style_ohe.fit_transform(data[['RunStyle']])\n",
    "track_ohe = OneHotEncoder(sparse_output=False)\n",
    "track_one_hot = track_ohe.fit_transform(data[['track']])"
   ]
  },
  {
   "cell_type": "code",
   "execution_count": 13,
   "metadata": {},
   "outputs": [],
   "source": [
    "data[\"run_style_one_hot\"] = run_style_one_hot.tolist()\n",
    "data[\"tracks_one_hot\"] = track_one_hot.tolist()"
   ]
  },
  {
   "cell_type": "code",
   "execution_count": 14,
   "metadata": {},
   "outputs": [
    {
     "data": {
      "text/plain": [
       "397"
      ]
     },
     "execution_count": 14,
     "metadata": {},
     "output_type": "execute_result"
    }
   ],
   "source": [
    "len(data[\"tracks_one_hot\"].iloc[0])"
   ]
  },
  {
   "cell_type": "code",
   "execution_count": 15,
   "metadata": {},
   "outputs": [],
   "source": [
    "horse_form = data.groupby(['horseId'], sort=False, as_index=False)"
   ]
  },
  {
   "cell_type": "code",
   "execution_count": 16,
   "metadata": {},
   "outputs": [
    {
     "data": {
      "text/plain": [
       "<module 'utils.featurecreations' from 'c:\\\\Users\\\\Nick\\\\Documents\\\\GitHub\\\\BetfairSpringCarnival\\\\src\\\\utils\\\\featurecreations.py'>"
      ]
     },
     "execution_count": 16,
     "metadata": {},
     "output_type": "execute_result"
    }
   ],
   "source": [
    "importlib.reload(featurecreations)"
   ]
  },
  {
   "cell_type": "code",
   "execution_count": 17,
   "metadata": {},
   "outputs": [],
   "source": [
    "data = featurecreations.generate_prev_race(data, horse_form)"
   ]
  },
  {
   "cell_type": "code",
   "execution_count": 18,
   "metadata": {},
   "outputs": [
    {
     "data": {
      "text/plain": [
       "'962316'"
      ]
     },
     "execution_count": 18,
     "metadata": {},
     "output_type": "execute_result"
    }
   ],
   "source": [
    "data['prev_race'].iloc[-1]"
   ]
  },
  {
   "cell_type": "code",
   "execution_count": 19,
   "metadata": {},
   "outputs": [],
   "source": [
    "data['dog_id'] = data['horseId']\n",
    "data['box'] = data['barrier']\n",
    "data['bfSP'] = data['priceBF']\n",
    "data['margin'] = data['MargFin']\n",
    "data['StartPrice'] = data['priceBF']\n",
    "data['place'] = data['position']\n",
    "data['runtime'] = data['ITimeToFin']\n",
    "data['date'] = pd.to_datetime(data['meetingDate'], format='mixed', dayfirst=True ).dt.date\n",
    "# data['date'] = pd.Timestamp(data['date'])\n",
    "data['state'] = data['State']\n",
    "data['dog_name'] = data['horse']"
   ]
  },
  {
   "cell_type": "code",
   "execution_count": 20,
   "metadata": {},
   "outputs": [
    {
     "data": {
      "text/plain": [
       "0          NZ\n",
       "1          NZ\n",
       "2          NZ\n",
       "3          NZ\n",
       "4          NZ\n",
       "         ... \n",
       "530176    NSW\n",
       "530177    NSW\n",
       "530178    NSW\n",
       "530179    NSW\n",
       "530180    NSW\n",
       "Name: State, Length: 530181, dtype: object"
      ]
     },
     "execution_count": 20,
     "metadata": {},
     "output_type": "execute_result"
    }
   ],
   "source": [
    "# data.barrier?\n",
    "data.columns\n",
    "data['State']"
   ]
  },
  {
   "cell_type": "code",
   "execution_count": 21,
   "metadata": {},
   "outputs": [],
   "source": [
    "form_only_stats = data[stats_cols].fillna(-1.0)\n",
    "stats = pd.Series(form_only_stats.values.tolist())"
   ]
  },
  {
   "cell_type": "code",
   "execution_count": 22,
   "metadata": {},
   "outputs": [],
   "source": [
    "# data = data.drop(columns=stats_cols)\n",
    "data['stats'] = stats"
   ]
  },
  {
   "cell_type": "code",
   "execution_count": 23,
   "metadata": {},
   "outputs": [
    {
     "data": {
      "text/plain": [
       "barrier\n",
       "2     59000\n",
       "1     58993\n",
       "3     58918\n",
       "4     58369\n",
       "5     56513\n",
       "6     52878\n",
       "7     47387\n",
       "8     40527\n",
       "9     32733\n",
       "10    25185\n",
       "11    17305\n",
       "12    11687\n",
       "13     5737\n",
       "14     3425\n",
       "15      863\n",
       "16      476\n",
       "17       94\n",
       "18       63\n",
       "19       12\n",
       "20        9\n",
       "Name: count, dtype: int64"
      ]
     },
     "execution_count": 23,
     "metadata": {},
     "output_type": "execute_result"
    }
   ],
   "source": [
    "data = data.query('barrier > 0 and barrier <=20')\n",
    "data.barrier.value_counts()"
   ]
  },
  {
   "cell_type": "code",
   "execution_count": 24,
   "metadata": {},
   "outputs": [],
   "source": [
    "data['box'] = data['barrier'] -1"
   ]
  },
  {
   "cell_type": "code",
   "execution_count": 25,
   "metadata": {},
   "outputs": [],
   "source": [
    "data['runtime'] = data['ITimeToFin']\n",
    "data['race_grade'] = data['class']"
   ]
  },
  {
   "cell_type": "code",
   "execution_count": 26,
   "metadata": {},
   "outputs": [],
   "source": [
    "data['stats_cols'] = str([stats_cols])\n",
    "data['stats_cols'] = data['stats_cols'].astype('category')"
   ]
  },
  {
   "cell_type": "code",
   "execution_count": 27,
   "metadata": {},
   "outputs": [],
   "source": [
    "data.reset_index().to_feather('horsey_racing_v1.fth')"
   ]
  },
  {
   "cell_type": "code",
   "execution_count": 28,
   "metadata": {},
   "outputs": [
    {
     "data": {
      "text/plain": [
       "Index(['meetingId', 'raceId', 'horseId', 'meetingDate', 'track', 'trackAbbrev',\n",
       "       'State', 'MPC', 'railPosition', 'TABMeeting',\n",
       "       ...\n",
       "       'bfSP', 'StartPrice', 'place', 'runtime', 'date', 'state', 'dog_name',\n",
       "       'stats', 'race_grade', 'stats_cols'],\n",
       "      dtype='object', length=108)"
      ]
     },
     "execution_count": 28,
     "metadata": {},
     "output_type": "execute_result"
    }
   ],
   "source": [
    "data.columns"
   ]
  },
  {
   "cell_type": "code",
   "execution_count": 29,
   "metadata": {},
   "outputs": [],
   "source": [
    "x = data.groupby('track')['barrier'].max()"
   ]
  },
  {
   "cell_type": "code",
   "execution_count": 30,
   "metadata": {},
   "outputs": [
    {
     "data": {
      "text/plain": [
       "barrier\n",
       "2     59000\n",
       "1     58993\n",
       "3     58918\n",
       "4     58369\n",
       "5     56513\n",
       "6     52878\n",
       "7     47387\n",
       "8     40527\n",
       "9     32733\n",
       "10    25185\n",
       "11    17305\n",
       "12    11687\n",
       "13     5737\n",
       "14     3425\n",
       "15      863\n",
       "16      476\n",
       "17       94\n",
       "18       63\n",
       "19       12\n",
       "20        9\n",
       "Name: count, dtype: int64"
      ]
     },
     "execution_count": 30,
     "metadata": {},
     "output_type": "execute_result"
    }
   ],
   "source": [
    "data.barrier.value_counts()"
   ]
  }
 ],
 "metadata": {
  "kernelspec": {
   "display_name": "PYTORCH",
   "language": "python",
   "name": "python3"
  },
  "language_info": {
   "codemirror_mode": {
    "name": "ipython",
    "version": 3
   },
   "file_extension": ".py",
   "mimetype": "text/x-python",
   "name": "python",
   "nbconvert_exporter": "python",
   "pygments_lexer": "ipython3",
   "version": "3.11.5"
  }
 },
 "nbformat": 4,
 "nbformat_minor": 2
}
