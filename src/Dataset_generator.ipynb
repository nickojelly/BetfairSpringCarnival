{
 "cells": [
  {
   "cell_type": "code",
   "execution_count": 1,
   "metadata": {},
   "outputs": [],
   "source": [
    "import pandas as pd\n",
    "import os\n",
    "import tqdm\n",
    "from sklearn.preprocessing import OneHotEncoder\n",
    "import utils.featurecreations as featurecreations\n",
    "import importlib\n",
    "import torch\n",
    "import torch.nn as nn"
   ]
  },
  {
   "cell_type": "code",
   "execution_count": 2,
   "metadata": {},
   "outputs": [],
   "source": [
    "# dfs = []\n",
    "# for file in os.listdir('data'):\n",
    "#     try:\n",
    "#         df = pd.read_excel(f'data/{file}')\n",
    "#         dfs.append(df)\n",
    "#     except:\n",
    "#         pass"
   ]
  },
  {
   "cell_type": "code",
   "execution_count": 3,
   "metadata": {},
   "outputs": [],
   "source": [
    "# data = pd.concat(dfs)"
   ]
  },
  {
   "cell_type": "code",
   "execution_count": 4,
   "metadata": {},
   "outputs": [],
   "source": [
    "# data = data.reset_index(drop=True)"
   ]
  },
  {
   "cell_type": "code",
   "execution_count": 5,
   "metadata": {},
   "outputs": [],
   "source": [
    "# data.to_csv('all_races_data.csv')"
   ]
  },
  {
   "cell_type": "code",
   "execution_count": 6,
   "metadata": {},
   "outputs": [],
   "source": [
    "df = pd.read_feather('all_races_data.fth')"
   ]
  },
  {
   "cell_type": "code",
   "execution_count": 7,
   "metadata": {},
   "outputs": [],
   "source": [
    "data = df"
   ]
  },
  {
   "cell_type": "code",
   "execution_count": 8,
   "metadata": {},
   "outputs": [],
   "source": [
    "data['meetingId'] = data['meetingId'].astype(int).astype(str)\n",
    "data['raceId'] = data['raceId'].astype(int).astype(str)\n",
    "data['horseId'] = data['horseId'].astype(int).astype(str)"
   ]
  },
  {
   "cell_type": "code",
   "execution_count": 9,
   "metadata": {},
   "outputs": [
    {
     "data": {
      "text/plain": [
       "Index(['meetingId', 'raceId', 'horseId', 'meetingDate', 'track', 'trackAbbrev',\n",
       "       'State', 'MPC', 'railPosition', 'TABMeeting', 'isBarrierTrial',\n",
       "       'hasSectionals', 'resulted', 'raceNo', 'raceName', 'prizeMoney',\n",
       "       'starters', 'startTime', 'class', 'distance', 'prizeMoneyBreakDown',\n",
       "       'ageRestrictions', 'SexRestrictions', 'jockeyRestrictions',\n",
       "       'trackCondition', 'trackConditionNumber', 'raceTime', 'sectional',\n",
       "       'sectionalDistance', 'PFRaceTime', 'PFRaceL600Time', 'limitWeight',\n",
       "       'weightType', 'jumps', 'groupStatus', 'tabNo', 'position', 'margin',\n",
       "       'horse', 'weight', 'barrier', 'inRun', 'flucs', 'priceSP', 'stewards',\n",
       "       'priceBF', 'gears', 'sex', 'age', 'CareerStarts', 'sire', 'dam',\n",
       "       'foalDate', 'trainer', 'jockey', 'jockeyId', 'trainerId', 'jock_claim',\n",
       "       'Reliable', 'RPR', 'RPP', 'WP20R', 'WP20P', 'TP20R', 'TP20P', 'WPTP20R',\n",
       "       'WPTP20P', 'RSFI', 'ScRank', 'SPrice', 'PFScore', 'PrSe', 'AHSP',\n",
       "       'RunStyle', 'PublishTime', 'ClsDiff', 'ETRPrRk', 'ETRPrice',\n",
       "       'ITimeToFin', 'Pos600', 'Pos200', 'Marg600', 'Marg200', 'MargFin',\n",
       "       'Last600Time', 'Last200Time', 'ABML600', 'ABML200', 'ABMFin'],\n",
       "      dtype='object')"
      ]
     },
     "execution_count": 9,
     "metadata": {},
     "output_type": "execute_result"
    }
   ],
   "source": [
    "data.columns"
   ]
  },
  {
   "cell_type": "code",
   "execution_count": 10,
   "metadata": {},
   "outputs": [],
   "source": [
    "race1 = data[data['raceId']=='879736']"
   ]
  },
  {
   "cell_type": "code",
   "execution_count": 11,
   "metadata": {},
   "outputs": [
    {
     "data": {
      "text/html": [
       "<div>\n",
       "<style scoped>\n",
       "    .dataframe tbody tr th:only-of-type {\n",
       "        vertical-align: middle;\n",
       "    }\n",
       "\n",
       "    .dataframe tbody tr th {\n",
       "        vertical-align: top;\n",
       "    }\n",
       "\n",
       "    .dataframe thead th {\n",
       "        text-align: right;\n",
       "    }\n",
       "</style>\n",
       "<table border=\"1\" class=\"dataframe\">\n",
       "  <thead>\n",
       "    <tr style=\"text-align: right;\">\n",
       "      <th></th>\n",
       "      <th>meetingId</th>\n",
       "      <th>raceId</th>\n",
       "      <th>horseId</th>\n",
       "      <th>meetingDate</th>\n",
       "      <th>track</th>\n",
       "      <th>trackAbbrev</th>\n",
       "      <th>State</th>\n",
       "      <th>MPC</th>\n",
       "      <th>railPosition</th>\n",
       "      <th>TABMeeting</th>\n",
       "      <th>...</th>\n",
       "      <th>Pos600</th>\n",
       "      <th>Pos200</th>\n",
       "      <th>Marg600</th>\n",
       "      <th>Marg200</th>\n",
       "      <th>MargFin</th>\n",
       "      <th>Last600Time</th>\n",
       "      <th>Last200Time</th>\n",
       "      <th>ABML600</th>\n",
       "      <th>ABML200</th>\n",
       "      <th>ABMFin</th>\n",
       "    </tr>\n",
       "  </thead>\n",
       "  <tbody>\n",
       "    <tr>\n",
       "      <th>1167</th>\n",
       "      <td>178543</td>\n",
       "      <td>879736</td>\n",
       "      <td>921720</td>\n",
       "      <td>03/09/2021</td>\n",
       "      <td>Albury</td>\n",
       "      <td>ALB</td>\n",
       "      <td>NSW</td>\n",
       "      <td>C</td>\n",
       "      <td>True</td>\n",
       "      <td>True</td>\n",
       "      <td>...</td>\n",
       "      <td>5</td>\n",
       "      <td>3</td>\n",
       "      <td>5.1</td>\n",
       "      <td>1.3</td>\n",
       "      <td>0.0</td>\n",
       "      <td>35.20</td>\n",
       "      <td>12.50</td>\n",
       "      <td>-3.5</td>\n",
       "      <td>0.8</td>\n",
       "      <td>5.4</td>\n",
       "    </tr>\n",
       "    <tr>\n",
       "      <th>1168</th>\n",
       "      <td>178543</td>\n",
       "      <td>879736</td>\n",
       "      <td>909170</td>\n",
       "      <td>03/09/2021</td>\n",
       "      <td>Albury</td>\n",
       "      <td>ALB</td>\n",
       "      <td>NSW</td>\n",
       "      <td>C</td>\n",
       "      <td>True</td>\n",
       "      <td>True</td>\n",
       "      <td>...</td>\n",
       "      <td>6</td>\n",
       "      <td>4</td>\n",
       "      <td>5.3</td>\n",
       "      <td>2.5</td>\n",
       "      <td>3.7</td>\n",
       "      <td>35.84</td>\n",
       "      <td>12.96</td>\n",
       "      <td>0.7</td>\n",
       "      <td>3.8</td>\n",
       "      <td>9.8</td>\n",
       "    </tr>\n",
       "    <tr>\n",
       "      <th>1169</th>\n",
       "      <td>178543</td>\n",
       "      <td>879736</td>\n",
       "      <td>941305</td>\n",
       "      <td>03/09/2021</td>\n",
       "      <td>Albury</td>\n",
       "      <td>ALB</td>\n",
       "      <td>NSW</td>\n",
       "      <td>C</td>\n",
       "      <td>True</td>\n",
       "      <td>True</td>\n",
       "      <td>...</td>\n",
       "      <td>4</td>\n",
       "      <td>2</td>\n",
       "      <td>3.6</td>\n",
       "      <td>1.1</td>\n",
       "      <td>0.5</td>\n",
       "      <td>35.52</td>\n",
       "      <td>12.60</td>\n",
       "      <td>-1.1</td>\n",
       "      <td>1.7</td>\n",
       "      <td>6.0</td>\n",
       "    </tr>\n",
       "    <tr>\n",
       "      <th>1170</th>\n",
       "      <td>178543</td>\n",
       "      <td>879736</td>\n",
       "      <td>884221</td>\n",
       "      <td>03/09/2021</td>\n",
       "      <td>Albury</td>\n",
       "      <td>ALB</td>\n",
       "      <td>NSW</td>\n",
       "      <td>C</td>\n",
       "      <td>True</td>\n",
       "      <td>True</td>\n",
       "      <td>...</td>\n",
       "      <td>3</td>\n",
       "      <td>5</td>\n",
       "      <td>2.5</td>\n",
       "      <td>3.4</td>\n",
       "      <td>6.7</td>\n",
       "      <td>36.86</td>\n",
       "      <td>13.36</td>\n",
       "      <td>7.6</td>\n",
       "      <td>6.3</td>\n",
       "      <td>13.4</td>\n",
       "    </tr>\n",
       "    <tr>\n",
       "      <th>1171</th>\n",
       "      <td>178543</td>\n",
       "      <td>879736</td>\n",
       "      <td>917728</td>\n",
       "      <td>03/09/2021</td>\n",
       "      <td>Albury</td>\n",
       "      <td>ALB</td>\n",
       "      <td>NSW</td>\n",
       "      <td>C</td>\n",
       "      <td>True</td>\n",
       "      <td>True</td>\n",
       "      <td>...</td>\n",
       "      <td>2</td>\n",
       "      <td>6</td>\n",
       "      <td>2.4</td>\n",
       "      <td>4.3</td>\n",
       "      <td>11.5</td>\n",
       "      <td>37.68</td>\n",
       "      <td>14.00</td>\n",
       "      <td>13.5</td>\n",
       "      <td>11.0</td>\n",
       "      <td>19.2</td>\n",
       "    </tr>\n",
       "    <tr>\n",
       "      <th>1172</th>\n",
       "      <td>178543</td>\n",
       "      <td>879736</td>\n",
       "      <td>893930</td>\n",
       "      <td>03/09/2021</td>\n",
       "      <td>Albury</td>\n",
       "      <td>ALB</td>\n",
       "      <td>NSW</td>\n",
       "      <td>C</td>\n",
       "      <td>True</td>\n",
       "      <td>True</td>\n",
       "      <td>...</td>\n",
       "      <td>1</td>\n",
       "      <td>1</td>\n",
       "      <td>0.0</td>\n",
       "      <td>0.0</td>\n",
       "      <td>3.5</td>\n",
       "      <td>36.68</td>\n",
       "      <td>13.36</td>\n",
       "      <td>6.8</td>\n",
       "      <td>6.6</td>\n",
       "      <td>9.6</td>\n",
       "    </tr>\n",
       "  </tbody>\n",
       "</table>\n",
       "<p>6 rows × 89 columns</p>\n",
       "</div>"
      ],
      "text/plain": [
       "     meetingId  raceId horseId meetingDate   track trackAbbrev State MPC  \\\n",
       "1167    178543  879736  921720  03/09/2021  Albury         ALB   NSW   C   \n",
       "1168    178543  879736  909170  03/09/2021  Albury         ALB   NSW   C   \n",
       "1169    178543  879736  941305  03/09/2021  Albury         ALB   NSW   C   \n",
       "1170    178543  879736  884221  03/09/2021  Albury         ALB   NSW   C   \n",
       "1171    178543  879736  917728  03/09/2021  Albury         ALB   NSW   C   \n",
       "1172    178543  879736  893930  03/09/2021  Albury         ALB   NSW   C   \n",
       "\n",
       "     railPosition  TABMeeting  ...  Pos600  Pos200  Marg600  Marg200 MargFin  \\\n",
       "1167         True        True  ...       5       3      5.1      1.3     0.0   \n",
       "1168         True        True  ...       6       4      5.3      2.5     3.7   \n",
       "1169         True        True  ...       4       2      3.6      1.1     0.5   \n",
       "1170         True        True  ...       3       5      2.5      3.4     6.7   \n",
       "1171         True        True  ...       2       6      2.4      4.3    11.5   \n",
       "1172         True        True  ...       1       1      0.0      0.0     3.5   \n",
       "\n",
       "      Last600Time  Last200Time ABML600 ABML200  ABMFin  \n",
       "1167        35.20        12.50    -3.5     0.8     5.4  \n",
       "1168        35.84        12.96     0.7     3.8     9.8  \n",
       "1169        35.52        12.60    -1.1     1.7     6.0  \n",
       "1170        36.86        13.36     7.6     6.3    13.4  \n",
       "1171        37.68        14.00    13.5    11.0    19.2  \n",
       "1172        36.68        13.36     6.8     6.6     9.6  \n",
       "\n",
       "[6 rows x 89 columns]"
      ]
     },
     "execution_count": 11,
     "metadata": {},
     "output_type": "execute_result"
    }
   ],
   "source": [
    "race1"
   ]
  },
  {
   "cell_type": "code",
   "execution_count": 12,
   "metadata": {},
   "outputs": [],
   "source": [
    "# data['isBarrierTrial'].value_counts()"
   ]
  },
  {
   "cell_type": "code",
   "execution_count": 13,
   "metadata": {},
   "outputs": [],
   "source": [
    "# data['stats_sum'] = data[stats_cols].fillna(0).sum(axis='columns' )"
   ]
  },
  {
   "cell_type": "code",
   "execution_count": 14,
   "metadata": {},
   "outputs": [],
   "source": [
    "# data['stats_sum']"
   ]
  },
  {
   "cell_type": "code",
   "execution_count": 15,
   "metadata": {},
   "outputs": [],
   "source": [
    "# data['stats_sum'].value_counts()"
   ]
  },
  {
   "cell_type": "code",
   "execution_count": 16,
   "metadata": {},
   "outputs": [],
   "source": [
    "stats_cols = ['RPR', 'RPP', 'WP20R', 'WP20P', 'TP20R', 'TP20P', 'WPTP20R',\n",
    "       'WPTP20P', 'RSFI', 'ScRank', 'SPrice', 'PFScore', 'PrSe', 'AHSP',\n",
    "       ]"
   ]
  },
  {
   "cell_type": "code",
   "execution_count": 17,
   "metadata": {},
   "outputs": [],
   "source": [
    "stats = data[stats_cols]"
   ]
  },
  {
   "cell_type": "code",
   "execution_count": 18,
   "metadata": {},
   "outputs": [
    {
     "data": {
      "text/plain": [
       "0      op/mf\n",
       "1      op/mf\n",
       "2    no data\n",
       "3      mf/bm\n",
       "4      mf/bm\n",
       "Name: RunStyle, dtype: object"
      ]
     },
     "execution_count": 18,
     "metadata": {},
     "output_type": "execute_result"
    }
   ],
   "source": [
    "data.RunStyle.head()"
   ]
  },
  {
   "cell_type": "code",
   "execution_count": 19,
   "metadata": {},
   "outputs": [
    {
     "data": {
      "text/plain": [
       "RunStyle\n",
       "mf         99023\n",
       "bm         96145\n",
       "op         67851\n",
       "op/mf      63275\n",
       "mf/bm      60258\n",
       "l          29478\n",
       "no data    26594\n",
       "Name: count, dtype: int64"
      ]
     },
     "execution_count": 19,
     "metadata": {},
     "output_type": "execute_result"
    }
   ],
   "source": [
    "data.RunStyle.value_counts()"
   ]
  },
  {
   "cell_type": "code",
   "execution_count": 20,
   "metadata": {},
   "outputs": [],
   "source": [
    "run_style_ohe = OneHotEncoder(sparse_output=False)\n",
    "run_style_one_hot = run_style_ohe.fit_transform(data[['RunStyle']])\n",
    "track_ohe = OneHotEncoder(sparse_output=False)\n",
    "track_one_hot = track_ohe.fit_transform(data[['track']])"
   ]
  },
  {
   "cell_type": "code",
   "execution_count": 21,
   "metadata": {},
   "outputs": [],
   "source": [
    "data[\"run_style_one_hot\"] = run_style_one_hot.tolist()\n",
    "data[\"tracks_one_hot\"] = track_one_hot.tolist()"
   ]
  },
  {
   "cell_type": "code",
   "execution_count": 22,
   "metadata": {},
   "outputs": [
    {
     "data": {
      "text/plain": [
       "397"
      ]
     },
     "execution_count": 22,
     "metadata": {},
     "output_type": "execute_result"
    }
   ],
   "source": [
    "len(data[\"tracks_one_hot\"].iloc[0])"
   ]
  },
  {
   "cell_type": "code",
   "execution_count": 23,
   "metadata": {},
   "outputs": [],
   "source": [
    "horse_form = data.groupby(['horseId'], sort=False, as_index=False)"
   ]
  },
  {
   "cell_type": "code",
   "execution_count": 24,
   "metadata": {},
   "outputs": [
    {
     "data": {
      "text/plain": [
       "<module 'utils.featurecreations' from 'c:\\\\Users\\\\Nick\\\\Documents\\\\GitHub\\\\BetfairSpringCarnival\\\\src\\\\utils\\\\featurecreations.py'>"
      ]
     },
     "execution_count": 24,
     "metadata": {},
     "output_type": "execute_result"
    }
   ],
   "source": [
    "importlib.reload(featurecreations)"
   ]
  },
  {
   "cell_type": "code",
   "execution_count": 25,
   "metadata": {},
   "outputs": [],
   "source": [
    "data = featurecreations.generate_prev_race(data, horse_form)"
   ]
  },
  {
   "cell_type": "code",
   "execution_count": 26,
   "metadata": {},
   "outputs": [
    {
     "data": {
      "text/plain": [
       "'962316'"
      ]
     },
     "execution_count": 26,
     "metadata": {},
     "output_type": "execute_result"
    }
   ],
   "source": [
    "data['prev_race'].iloc[-1]"
   ]
  },
  {
   "cell_type": "code",
   "execution_count": null,
   "metadata": {},
   "outputs": [],
   "source": []
  },
  {
   "cell_type": "code",
   "execution_count": 27,
   "metadata": {},
   "outputs": [],
   "source": [
    "data['dog_id'] = data['horseId']\n",
    "data['box'] = data['barrier']\n",
    "data['bfSP'] = data['priceBF']\n",
    "data['margin'] = data['MargFin']\n",
    "data['StartPrice'] = data['priceBF']\n",
    "data['place'] = data['position']\n",
    "data['runtime'] = data['ITimeToFin']\n",
    "data['date'] = pd.to_datetime(data['meetingDate'], format='mixed', dayfirst=True ).dt.date\n",
    "# data['date'] = pd.Timestamp(data['date'])\n",
    "data['state'] = data['State']\n",
    "data['dog_name'] = data['horse']\n",
    "# data = data[]"
   ]
  },
  {
   "cell_type": "code",
   "execution_count": 28,
   "metadata": {},
   "outputs": [
    {
     "data": {
      "text/plain": [
       "0          NZ\n",
       "1          NZ\n",
       "2          NZ\n",
       "3          NZ\n",
       "4          NZ\n",
       "         ... \n",
       "530176    NSW\n",
       "530177    NSW\n",
       "530178    NSW\n",
       "530179    NSW\n",
       "530180    NSW\n",
       "Name: State, Length: 530181, dtype: object"
      ]
     },
     "execution_count": 28,
     "metadata": {},
     "output_type": "execute_result"
    }
   ],
   "source": [
    "# data.barrier?\n",
    "data.columns\n",
    "data['State']"
   ]
  },
  {
   "cell_type": "code",
   "execution_count": 29,
   "metadata": {},
   "outputs": [],
   "source": [
    "form_only_stats = data[stats_cols].fillna(-1.0)\n",
    "stats = pd.Series(form_only_stats.values.tolist())"
   ]
  },
  {
   "cell_type": "code",
   "execution_count": 30,
   "metadata": {},
   "outputs": [],
   "source": [
    "# data = data.drop(columns=stats_cols)\n",
    "data['stats'] = stats"
   ]
  },
  {
   "cell_type": "code",
   "execution_count": 31,
   "metadata": {},
   "outputs": [
    {
     "data": {
      "text/plain": [
       "barrier\n",
       "2     59000\n",
       "1     58993\n",
       "3     58918\n",
       "4     58369\n",
       "5     56513\n",
       "6     52878\n",
       "7     47387\n",
       "8     40527\n",
       "9     32733\n",
       "10    25185\n",
       "11    17305\n",
       "12    11687\n",
       "13     5737\n",
       "14     3425\n",
       "15      863\n",
       "16      476\n",
       "17       94\n",
       "18       63\n",
       "19       12\n",
       "20        9\n",
       "Name: count, dtype: int64"
      ]
     },
     "execution_count": 31,
     "metadata": {},
     "output_type": "execute_result"
    }
   ],
   "source": [
    "data = data.query('barrier > 0 and barrier <=20')\n",
    "data.barrier.value_counts()"
   ]
  },
  {
   "cell_type": "code",
   "execution_count": 32,
   "metadata": {},
   "outputs": [],
   "source": [
    "data['box'] = data['barrier']"
   ]
  },
  {
   "cell_type": "code",
   "execution_count": 33,
   "metadata": {},
   "outputs": [],
   "source": [
    "data['runtime'] = data['ITimeToFin']\n",
    "data['race_grade'] = data['class']"
   ]
  },
  {
   "cell_type": "code",
   "execution_count": 34,
   "metadata": {},
   "outputs": [],
   "source": [
    "data['stats_cols'] = str([stats_cols])\n",
    "data['stats_cols'] = data['stats_cols'].astype('category')"
   ]
  },
  {
   "cell_type": "code",
   "execution_count": 35,
   "metadata": {},
   "outputs": [],
   "source": [
    "data = data[~data['isBarrierTrial']]"
   ]
  },
  {
   "cell_type": "code",
   "execution_count": 36,
   "metadata": {},
   "outputs": [],
   "source": [
    "data = data.reset_index(drop=True)"
   ]
  },
  {
   "cell_type": "code",
   "execution_count": 37,
   "metadata": {},
   "outputs": [
    {
     "data": {
      "text/plain": [
       "(443872, 108)"
      ]
     },
     "execution_count": 37,
     "metadata": {},
     "output_type": "execute_result"
    }
   ],
   "source": [
    "data.shape"
   ]
  },
  {
   "cell_type": "code",
   "execution_count": 38,
   "metadata": {},
   "outputs": [],
   "source": [
    "race = data[data['raceId']=='879552']"
   ]
  },
  {
   "cell_type": "code",
   "execution_count": 39,
   "metadata": {},
   "outputs": [
    {
     "data": {
      "text/plain": [
       "504    7\n",
       "505    5\n",
       "506    6\n",
       "507    2\n",
       "508    1\n",
       "509    8\n",
       "510    4\n",
       "511    3\n",
       "Name: barrier, dtype: int64"
      ]
     },
     "execution_count": 39,
     "metadata": {},
     "output_type": "execute_result"
    }
   ],
   "source": [
    "race.barrier"
   ]
  },
  {
   "cell_type": "code",
   "execution_count": 40,
   "metadata": {},
   "outputs": [],
   "source": [
    "empty_margin_list = [100]*20\n",
    "margin_list = [x for x in race[\"margin\"]]\n",
    "boxes_list = [int(x) for x in race['box']]\n",
    "for n,x in enumerate(boxes_list):\n",
    "    empty_margin_list[x-1] = margin_list[n]"
   ]
  },
  {
   "cell_type": "code",
   "execution_count": 41,
   "metadata": {},
   "outputs": [
    {
     "name": "stdout",
     "output_type": "stream",
     "text": [
      "[0.0, 1.9, 0.2, 1.3, 4.8, 3.9, 1.8, 0.1, 100, 100, 100, 100, 100, 100, 100, 100, 100, 100, 100, 100]\n"
     ]
    }
   ],
   "source": [
    "print(empty_margin_list)"
   ]
  },
  {
   "cell_type": "code",
   "execution_count": 42,
   "metadata": {},
   "outputs": [],
   "source": [
    "def boosted_softmin(input):\n",
    "    sft_min = nn.Softmin(dim=-1)\n",
    "    return sft_min(torch.exp(input))"
   ]
  },
  {
   "cell_type": "code",
   "execution_count": 43,
   "metadata": {},
   "outputs": [],
   "source": [
    "adjustedMargin = (boosted_softmin(torch.tensor(empty_margin_list)))"
   ]
  },
  {
   "cell_type": "code",
   "execution_count": 44,
   "metadata": {},
   "outputs": [
    {
     "data": {
      "text/plain": [
       "tensor([3.5963e-01, 1.2204e-03, 2.8820e-01, 2.4922e-02, 0.0000e+00, 3.4271e-22,\n",
       "        2.3058e-03, 3.2372e-01, 0.0000e+00, 0.0000e+00, 0.0000e+00, 0.0000e+00,\n",
       "        0.0000e+00, 0.0000e+00, 0.0000e+00, 0.0000e+00, 0.0000e+00, 0.0000e+00,\n",
       "        0.0000e+00, 0.0000e+00])"
      ]
     },
     "execution_count": 44,
     "metadata": {},
     "output_type": "execute_result"
    }
   ],
   "source": [
    "adjustedMargin"
   ]
  },
  {
   "cell_type": "code",
   "execution_count": 45,
   "metadata": {},
   "outputs": [
    {
     "data": {
      "text/plain": [
       "tensor([3.5963e-01, 1.2204e-03, 2.8820e-01, 2.4922e-02, 0.0000e+00, 3.4271e-22,\n",
       "        2.3058e-03, 3.2372e-01, 0.0000e+00, 0.0000e+00, 0.0000e+00, 0.0000e+00,\n",
       "        0.0000e+00, 0.0000e+00, 0.0000e+00, 0.0000e+00, 0.0000e+00, 0.0000e+00,\n",
       "        0.0000e+00, 0.0000e+00], device='cuda:0')"
      ]
     },
     "execution_count": 45,
     "metadata": {},
     "output_type": "execute_result"
    }
   ],
   "source": [
    "adjustedMargin.to('cuda:0')"
   ]
  },
  {
   "cell_type": "code",
   "execution_count": 46,
   "metadata": {},
   "outputs": [],
   "source": [
    "data = data[data['raceId']=='915012']"
   ]
  },
  {
   "cell_type": "code",
   "execution_count": 47,
   "metadata": {},
   "outputs": [],
   "source": [
    "# data.reset_index(drop=True).to_feather('horsey_racing_v1.fth')"
   ]
  },
  {
   "cell_type": "code",
   "execution_count": 56,
   "metadata": {},
   "outputs": [
    {
     "name": "stdout",
     "output_type": "stream",
     "text": [
      "        place  barrier\n",
      "235211      7        1\n",
      "235212      2        8\n",
      "235213      9       10\n",
      "235214     11        7\n",
      "235215      3        2\n",
      "235216      1        9\n",
      "235217      5        4\n",
      "235218      8        3\n",
      "235219      6        5\n",
      "235220     10       11\n",
      "235221      4        6\n"
     ]
    }
   ],
   "source": [
    "print(data[['place','barrier']])"
   ]
  },
  {
   "cell_type": "code",
   "execution_count": 53,
   "metadata": {},
   "outputs": [
    {
     "name": "stdout",
     "output_type": "stream",
     "text": [
      "(11, 108)\n"
     ]
    }
   ],
   "source": [
    "print(data.shape)\n",
    "# data = data."
   ]
  },
  {
   "cell_type": "code",
   "execution_count": 49,
   "metadata": {},
   "outputs": [
    {
     "data": {
      "text/plain": [
       "Index(['meetingId', 'raceId', 'horseId', 'meetingDate', 'track', 'trackAbbrev',\n",
       "       'State', 'MPC', 'railPosition', 'TABMeeting',\n",
       "       ...\n",
       "       'bfSP', 'StartPrice', 'place', 'runtime', 'date', 'state', 'dog_name',\n",
       "       'stats', 'race_grade', 'stats_cols'],\n",
       "      dtype='object', length=108)"
      ]
     },
     "execution_count": 49,
     "metadata": {},
     "output_type": "execute_result"
    }
   ],
   "source": [
    "data.columns"
   ]
  },
  {
   "cell_type": "code",
   "execution_count": 50,
   "metadata": {},
   "outputs": [],
   "source": [
    "x = data.groupby('track')['barrier'].max()"
   ]
  },
  {
   "cell_type": "code",
   "execution_count": 51,
   "metadata": {},
   "outputs": [
    {
     "data": {
      "text/plain": [
       "barrier\n",
       "1     1\n",
       "8     1\n",
       "10    1\n",
       "7     1\n",
       "2     1\n",
       "9     1\n",
       "4     1\n",
       "3     1\n",
       "5     1\n",
       "11    1\n",
       "6     1\n",
       "Name: count, dtype: int64"
      ]
     },
     "execution_count": 51,
     "metadata": {},
     "output_type": "execute_result"
    }
   ],
   "source": [
    "data.barrier.value_counts()"
   ]
  },
  {
   "cell_type": "code",
   "execution_count": 52,
   "metadata": {},
   "outputs": [
    {
     "data": {
      "text/plain": [
       "meetingId      11.0\n",
       "horseId        11.0\n",
       "meetingDate    11.0\n",
       "track          11.0\n",
       "trackAbbrev    11.0\n",
       "               ... \n",
       "state          11.0\n",
       "dog_name       11.0\n",
       "stats          11.0\n",
       "race_grade     11.0\n",
       "stats_cols     11.0\n",
       "Length: 107, dtype: float64"
      ]
     },
     "execution_count": 52,
     "metadata": {},
     "output_type": "execute_result"
    }
   ],
   "source": [
    "data.groupby('raceId').count().mean()"
   ]
  },
  {
   "cell_type": "code",
   "execution_count": null,
   "metadata": {},
   "outputs": [],
   "source": []
  }
 ],
 "metadata": {
  "kernelspec": {
   "display_name": "PYTORCH",
   "language": "python",
   "name": "python3"
  },
  "language_info": {
   "codemirror_mode": {
    "name": "ipython",
    "version": 3
   },
   "file_extension": ".py",
   "mimetype": "text/x-python",
   "name": "python",
   "nbconvert_exporter": "python",
   "pygments_lexer": "ipython3",
   "version": "3.11.5"
  }
 },
 "nbformat": 4,
 "nbformat_minor": 2
}
