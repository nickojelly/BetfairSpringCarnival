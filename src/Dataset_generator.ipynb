{
 "cells": [
  {
   "cell_type": "code",
   "execution_count": 1,
   "metadata": {},
   "outputs": [],
   "source": [
    "import pandas as pd\n",
    "import os\n",
    "import tqdm\n",
    "from sklearn.preprocessing import OneHotEncoder\n",
    "import utils.featurecreations as featurecreations\n",
    "import importlib\n",
    "import torch\n",
    "import torch.nn as nn"
   ]
  },
  {
   "cell_type": "code",
   "execution_count": 2,
   "metadata": {},
   "outputs": [
    {
     "name": "stderr",
     "output_type": "stream",
     "text": [
      "100%|██████████| 8/8 [15:16<00:00, 114.52s/it]"
     ]
    },
    {
     "name": "stdout",
     "output_type": "stream",
     "text": [
      "~$2021_Sep01_to_Dec31.xlsx failed\n"
     ]
    },
    {
     "name": "stderr",
     "output_type": "stream",
     "text": [
      "\n"
     ]
    }
   ],
   "source": [
    "dfs = []\n",
    "for file in tqdm.tqdm(os.listdir('data')):\n",
    "    try:\n",
    "        df = pd.read_excel(f'data/{file}')\n",
    "        dfs.append(df)\n",
    "    except:\n",
    "        print(file,'failed')"
   ]
  },
  {
   "cell_type": "code",
   "execution_count": 54,
   "metadata": {},
   "outputs": [],
   "source": [
    "data = pd.concat(dfs)"
   ]
  },
  {
   "cell_type": "code",
   "execution_count": 4,
   "metadata": {},
   "outputs": [],
   "source": [
    "data = data.reset_index(drop=True)"
   ]
  },
  {
   "cell_type": "code",
   "execution_count": 5,
   "metadata": {},
   "outputs": [],
   "source": [
    "data.to_feather('all_races_data.fth')"
   ]
  },
  {
   "cell_type": "code",
   "execution_count": 55,
   "metadata": {},
   "outputs": [],
   "source": [
    "df = pd.read_feather('all_races_data.fth')"
   ]
  },
  {
   "cell_type": "code",
   "execution_count": 56,
   "metadata": {},
   "outputs": [],
   "source": [
    "data = df"
   ]
  },
  {
   "cell_type": "code",
   "execution_count": 57,
   "metadata": {},
   "outputs": [],
   "source": [
    "data['meetingId'] = data['meetingId'].astype(int).astype(str)\n",
    "data['raceId'] = data['raceId'].astype(int).astype(str)\n",
    "data['horseId'] = data['horseId'].astype(int).astype(str)"
   ]
  },
  {
   "cell_type": "code",
   "execution_count": 58,
   "metadata": {},
   "outputs": [
    {
     "data": {
      "text/plain": [
       "Index(['meetingId', 'raceId', 'horseId', 'meetingDate', 'track', 'trackAbbrev',\n",
       "       'State', 'MPC', 'railPosition', 'TABMeeting', 'isBarrierTrial',\n",
       "       'hasSectionals', 'resulted', 'raceNo', 'raceName', 'prizeMoney',\n",
       "       'starters', 'startTime', 'class', 'distance', 'prizeMoneyBreakDown',\n",
       "       'ageRestrictions', 'SexRestrictions', 'jockeyRestrictions',\n",
       "       'trackCondition', 'trackConditionNumber', 'raceTime', 'sectional',\n",
       "       'sectionalDistance', 'PFRaceTime', 'PFRaceL600Time', 'limitWeight',\n",
       "       'weightType', 'jumps', 'groupStatus', 'tabNo', 'position', 'margin',\n",
       "       'horse', 'weight', 'barrier', 'inRun', 'flucs', 'priceSP', 'stewards',\n",
       "       'priceBF', 'gears', 'sex', 'age', 'CareerStarts', 'sire', 'dam',\n",
       "       'foalDate', 'trainer', 'jockey', 'jockeyId', 'trainerId', 'jock_claim',\n",
       "       'Reliable', 'RPR', 'RPP', 'WP20R', 'WP20P', 'TP20R', 'TP20P', 'WPTP20R',\n",
       "       'WPTP20P', 'RSFI', 'ScRank', 'SPrice', 'PFScore', 'PrSe', 'AHSP',\n",
       "       'RunStyle', 'PublishTime', 'ClsDiff', 'ETRPrRk', 'ETRPrice',\n",
       "       'ITimeToFin', 'Pos600', 'Pos200', 'Marg600', 'Marg200', 'MargFin',\n",
       "       'Last600Time', 'Last200Time', 'ABML600', 'ABML200', 'ABMFin'],\n",
       "      dtype='object')"
      ]
     },
     "execution_count": 58,
     "metadata": {},
     "output_type": "execute_result"
    }
   ],
   "source": [
    "data.columns"
   ]
  },
  {
   "cell_type": "code",
   "execution_count": 59,
   "metadata": {},
   "outputs": [],
   "source": [
    "race1 = data[data['raceId']=='879736']"
   ]
  },
  {
   "cell_type": "code",
   "execution_count": 60,
   "metadata": {},
   "outputs": [
    {
     "data": {
      "text/html": [
       "<div>\n",
       "<style scoped>\n",
       "    .dataframe tbody tr th:only-of-type {\n",
       "        vertical-align: middle;\n",
       "    }\n",
       "\n",
       "    .dataframe tbody tr th {\n",
       "        vertical-align: top;\n",
       "    }\n",
       "\n",
       "    .dataframe thead th {\n",
       "        text-align: right;\n",
       "    }\n",
       "</style>\n",
       "<table border=\"1\" class=\"dataframe\">\n",
       "  <thead>\n",
       "    <tr style=\"text-align: right;\">\n",
       "      <th></th>\n",
       "      <th>meetingId</th>\n",
       "      <th>raceId</th>\n",
       "      <th>horseId</th>\n",
       "      <th>meetingDate</th>\n",
       "      <th>track</th>\n",
       "      <th>trackAbbrev</th>\n",
       "      <th>State</th>\n",
       "      <th>MPC</th>\n",
       "      <th>railPosition</th>\n",
       "      <th>TABMeeting</th>\n",
       "      <th>...</th>\n",
       "      <th>Pos600</th>\n",
       "      <th>Pos200</th>\n",
       "      <th>Marg600</th>\n",
       "      <th>Marg200</th>\n",
       "      <th>MargFin</th>\n",
       "      <th>Last600Time</th>\n",
       "      <th>Last200Time</th>\n",
       "      <th>ABML600</th>\n",
       "      <th>ABML200</th>\n",
       "      <th>ABMFin</th>\n",
       "    </tr>\n",
       "  </thead>\n",
       "  <tbody>\n",
       "    <tr>\n",
       "      <th>1167</th>\n",
       "      <td>178543</td>\n",
       "      <td>879736</td>\n",
       "      <td>921720</td>\n",
       "      <td>03/09/2021</td>\n",
       "      <td>Albury</td>\n",
       "      <td>ALB</td>\n",
       "      <td>NSW</td>\n",
       "      <td>C</td>\n",
       "      <td>True</td>\n",
       "      <td>True</td>\n",
       "      <td>...</td>\n",
       "      <td>5</td>\n",
       "      <td>3</td>\n",
       "      <td>5.1</td>\n",
       "      <td>1.3</td>\n",
       "      <td>0.0</td>\n",
       "      <td>35.20</td>\n",
       "      <td>12.50</td>\n",
       "      <td>-3.5</td>\n",
       "      <td>0.8</td>\n",
       "      <td>5.4</td>\n",
       "    </tr>\n",
       "    <tr>\n",
       "      <th>1168</th>\n",
       "      <td>178543</td>\n",
       "      <td>879736</td>\n",
       "      <td>909170</td>\n",
       "      <td>03/09/2021</td>\n",
       "      <td>Albury</td>\n",
       "      <td>ALB</td>\n",
       "      <td>NSW</td>\n",
       "      <td>C</td>\n",
       "      <td>True</td>\n",
       "      <td>True</td>\n",
       "      <td>...</td>\n",
       "      <td>6</td>\n",
       "      <td>4</td>\n",
       "      <td>5.3</td>\n",
       "      <td>2.5</td>\n",
       "      <td>3.7</td>\n",
       "      <td>35.84</td>\n",
       "      <td>12.96</td>\n",
       "      <td>0.7</td>\n",
       "      <td>3.8</td>\n",
       "      <td>9.8</td>\n",
       "    </tr>\n",
       "    <tr>\n",
       "      <th>1169</th>\n",
       "      <td>178543</td>\n",
       "      <td>879736</td>\n",
       "      <td>941305</td>\n",
       "      <td>03/09/2021</td>\n",
       "      <td>Albury</td>\n",
       "      <td>ALB</td>\n",
       "      <td>NSW</td>\n",
       "      <td>C</td>\n",
       "      <td>True</td>\n",
       "      <td>True</td>\n",
       "      <td>...</td>\n",
       "      <td>4</td>\n",
       "      <td>2</td>\n",
       "      <td>3.6</td>\n",
       "      <td>1.1</td>\n",
       "      <td>0.5</td>\n",
       "      <td>35.52</td>\n",
       "      <td>12.60</td>\n",
       "      <td>-1.1</td>\n",
       "      <td>1.7</td>\n",
       "      <td>6.0</td>\n",
       "    </tr>\n",
       "    <tr>\n",
       "      <th>1170</th>\n",
       "      <td>178543</td>\n",
       "      <td>879736</td>\n",
       "      <td>884221</td>\n",
       "      <td>03/09/2021</td>\n",
       "      <td>Albury</td>\n",
       "      <td>ALB</td>\n",
       "      <td>NSW</td>\n",
       "      <td>C</td>\n",
       "      <td>True</td>\n",
       "      <td>True</td>\n",
       "      <td>...</td>\n",
       "      <td>3</td>\n",
       "      <td>5</td>\n",
       "      <td>2.5</td>\n",
       "      <td>3.4</td>\n",
       "      <td>6.7</td>\n",
       "      <td>36.86</td>\n",
       "      <td>13.36</td>\n",
       "      <td>7.6</td>\n",
       "      <td>6.3</td>\n",
       "      <td>13.4</td>\n",
       "    </tr>\n",
       "    <tr>\n",
       "      <th>1171</th>\n",
       "      <td>178543</td>\n",
       "      <td>879736</td>\n",
       "      <td>917728</td>\n",
       "      <td>03/09/2021</td>\n",
       "      <td>Albury</td>\n",
       "      <td>ALB</td>\n",
       "      <td>NSW</td>\n",
       "      <td>C</td>\n",
       "      <td>True</td>\n",
       "      <td>True</td>\n",
       "      <td>...</td>\n",
       "      <td>2</td>\n",
       "      <td>6</td>\n",
       "      <td>2.4</td>\n",
       "      <td>4.3</td>\n",
       "      <td>11.5</td>\n",
       "      <td>37.68</td>\n",
       "      <td>14.00</td>\n",
       "      <td>13.5</td>\n",
       "      <td>11.0</td>\n",
       "      <td>19.2</td>\n",
       "    </tr>\n",
       "    <tr>\n",
       "      <th>1172</th>\n",
       "      <td>178543</td>\n",
       "      <td>879736</td>\n",
       "      <td>893930</td>\n",
       "      <td>03/09/2021</td>\n",
       "      <td>Albury</td>\n",
       "      <td>ALB</td>\n",
       "      <td>NSW</td>\n",
       "      <td>C</td>\n",
       "      <td>True</td>\n",
       "      <td>True</td>\n",
       "      <td>...</td>\n",
       "      <td>1</td>\n",
       "      <td>1</td>\n",
       "      <td>0.0</td>\n",
       "      <td>0.0</td>\n",
       "      <td>3.5</td>\n",
       "      <td>36.68</td>\n",
       "      <td>13.36</td>\n",
       "      <td>6.8</td>\n",
       "      <td>6.6</td>\n",
       "      <td>9.6</td>\n",
       "    </tr>\n",
       "  </tbody>\n",
       "</table>\n",
       "<p>6 rows × 89 columns</p>\n",
       "</div>"
      ],
      "text/plain": [
       "     meetingId  raceId horseId meetingDate   track trackAbbrev State MPC  \\\n",
       "1167    178543  879736  921720  03/09/2021  Albury         ALB   NSW   C   \n",
       "1168    178543  879736  909170  03/09/2021  Albury         ALB   NSW   C   \n",
       "1169    178543  879736  941305  03/09/2021  Albury         ALB   NSW   C   \n",
       "1170    178543  879736  884221  03/09/2021  Albury         ALB   NSW   C   \n",
       "1171    178543  879736  917728  03/09/2021  Albury         ALB   NSW   C   \n",
       "1172    178543  879736  893930  03/09/2021  Albury         ALB   NSW   C   \n",
       "\n",
       "     railPosition  TABMeeting  ...  Pos600  Pos200  Marg600  Marg200 MargFin  \\\n",
       "1167         True        True  ...       5       3      5.1      1.3     0.0   \n",
       "1168         True        True  ...       6       4      5.3      2.5     3.7   \n",
       "1169         True        True  ...       4       2      3.6      1.1     0.5   \n",
       "1170         True        True  ...       3       5      2.5      3.4     6.7   \n",
       "1171         True        True  ...       2       6      2.4      4.3    11.5   \n",
       "1172         True        True  ...       1       1      0.0      0.0     3.5   \n",
       "\n",
       "      Last600Time  Last200Time ABML600 ABML200  ABMFin  \n",
       "1167        35.20        12.50    -3.5     0.8     5.4  \n",
       "1168        35.84        12.96     0.7     3.8     9.8  \n",
       "1169        35.52        12.60    -1.1     1.7     6.0  \n",
       "1170        36.86        13.36     7.6     6.3    13.4  \n",
       "1171        37.68        14.00    13.5    11.0    19.2  \n",
       "1172        36.68        13.36     6.8     6.6     9.6  \n",
       "\n",
       "[6 rows x 89 columns]"
      ]
     },
     "execution_count": 60,
     "metadata": {},
     "output_type": "execute_result"
    }
   ],
   "source": [
    "race1"
   ]
  },
  {
   "cell_type": "code",
   "execution_count": 61,
   "metadata": {},
   "outputs": [],
   "source": [
    "# data['isBarrierTrial'].value_counts()"
   ]
  },
  {
   "cell_type": "code",
   "execution_count": 62,
   "metadata": {},
   "outputs": [],
   "source": [
    "# data['stats_sum'] = data[stats_cols].fillna(0).sum(axis='columns' )"
   ]
  },
  {
   "cell_type": "code",
   "execution_count": 63,
   "metadata": {},
   "outputs": [],
   "source": [
    "# data['stats_sum']"
   ]
  },
  {
   "cell_type": "code",
   "execution_count": 64,
   "metadata": {},
   "outputs": [],
   "source": [
    "# data['stats_sum'].value_counts()"
   ]
  },
  {
   "cell_type": "code",
   "execution_count": 65,
   "metadata": {},
   "outputs": [],
   "source": [
    "stats_cols = ['RPR', 'RPP', 'WP20R', 'WP20P', 'TP20R', 'TP20P', 'WPTP20R',\n",
    "       'WPTP20P', 'RSFI', 'ScRank', 'SPrice', 'PFScore', 'PrSe', 'AHSP',\n",
    "       'ClsDiff','ETRPrRk','ETRPrice'\n",
    "       ]"
   ]
  },
  {
   "cell_type": "code",
   "execution_count": 66,
   "metadata": {},
   "outputs": [],
   "source": [
    "stats = data[stats_cols]"
   ]
  },
  {
   "cell_type": "code",
   "execution_count": 67,
   "metadata": {},
   "outputs": [
    {
     "data": {
      "text/plain": [
       "0      op/mf\n",
       "1      op/mf\n",
       "2    no data\n",
       "3      mf/bm\n",
       "4      mf/bm\n",
       "Name: RunStyle, dtype: object"
      ]
     },
     "execution_count": 67,
     "metadata": {},
     "output_type": "execute_result"
    }
   ],
   "source": [
    "data.RunStyle.head()"
   ]
  },
  {
   "cell_type": "code",
   "execution_count": 68,
   "metadata": {},
   "outputs": [
    {
     "data": {
      "text/plain": [
       "RunStyle\n",
       "mf         105388\n",
       "bm         102396\n",
       "op          72467\n",
       "op/mf       67420\n",
       "mf/bm       64239\n",
       "l           31433\n",
       "no data     28342\n",
       "Name: count, dtype: int64"
      ]
     },
     "execution_count": 68,
     "metadata": {},
     "output_type": "execute_result"
    }
   ],
   "source": [
    "data.RunStyle.value_counts()"
   ]
  },
  {
   "cell_type": "code",
   "execution_count": 69,
   "metadata": {},
   "outputs": [],
   "source": [
    "run_style_ohe = OneHotEncoder(sparse_output=False)\n",
    "run_style_one_hot = run_style_ohe.fit_transform(data[['RunStyle']])\n",
    "track_ohe = OneHotEncoder(sparse_output=False)\n",
    "track_one_hot = track_ohe.fit_transform(data[['track']])"
   ]
  },
  {
   "cell_type": "code",
   "execution_count": 70,
   "metadata": {},
   "outputs": [],
   "source": [
    "data[\"run_style_one_hot\"] = run_style_one_hot.tolist()\n",
    "data[\"tracks_one_hot\"] = track_one_hot.tolist()"
   ]
  },
  {
   "cell_type": "code",
   "execution_count": 71,
   "metadata": {},
   "outputs": [
    {
     "data": {
      "text/plain": [
       "404"
      ]
     },
     "execution_count": 71,
     "metadata": {},
     "output_type": "execute_result"
    }
   ],
   "source": [
    "len(data[\"tracks_one_hot\"].iloc[0])"
   ]
  },
  {
   "cell_type": "code",
   "execution_count": 72,
   "metadata": {},
   "outputs": [],
   "source": [
    "horse_form = data.groupby(['horseId'], sort=False, as_index=False)"
   ]
  },
  {
   "cell_type": "code",
   "execution_count": 73,
   "metadata": {},
   "outputs": [
    {
     "data": {
      "text/plain": [
       "<module 'utils.featurecreations' from 'c:\\\\Users\\\\Nick\\\\Documents\\\\GitHub\\\\BetfairSpringCarnival\\\\src\\\\utils\\\\featurecreations.py'>"
      ]
     },
     "execution_count": 73,
     "metadata": {},
     "output_type": "execute_result"
    }
   ],
   "source": [
    "importlib.reload(featurecreations)"
   ]
  },
  {
   "cell_type": "code",
   "execution_count": 74,
   "metadata": {},
   "outputs": [],
   "source": [
    "data = featurecreations.generate_prev_race(data, horse_form)"
   ]
  },
  {
   "cell_type": "code",
   "execution_count": 75,
   "metadata": {},
   "outputs": [
    {
     "data": {
      "text/plain": [
       "'1028124'"
      ]
     },
     "execution_count": 75,
     "metadata": {},
     "output_type": "execute_result"
    }
   ],
   "source": [
    "data['prev_race'].iloc[-1]"
   ]
  },
  {
   "cell_type": "code",
   "execution_count": null,
   "metadata": {},
   "outputs": [],
   "source": []
  },
  {
   "cell_type": "code",
   "execution_count": 76,
   "metadata": {},
   "outputs": [],
   "source": [
    "data['dog_id'] = data['horseId']\n",
    "data['box'] = data['barrier']\n",
    "data['bfSP'] = data['priceBF']\n",
    "data['margin'] = data['MargFin']\n",
    "data['StartPrice'] = data['priceBF']\n",
    "data['place'] = data['position']\n",
    "data['runtime'] = data['ITimeToFin']\n",
    "data['date'] = pd.to_datetime(data['meetingDate'], format='mixed', dayfirst=True ).dt.date\n",
    "# data['date'] = pd.Timestamp(data['date'])\n",
    "data['state'] = data['State']\n",
    "data['dog_name'] = data['horse']\n",
    "# data = data[]"
   ]
  },
  {
   "cell_type": "code",
   "execution_count": 77,
   "metadata": {},
   "outputs": [
    {
     "data": {
      "text/plain": [
       "0          NZ\n",
       "1          NZ\n",
       "2          NZ\n",
       "3          NZ\n",
       "4          NZ\n",
       "         ... \n",
       "566456    NSW\n",
       "566457    NSW\n",
       "566458    NSW\n",
       "566459    NSW\n",
       "566460    NSW\n",
       "Name: State, Length: 566461, dtype: object"
      ]
     },
     "execution_count": 77,
     "metadata": {},
     "output_type": "execute_result"
    }
   ],
   "source": [
    "# data.barrier?\n",
    "data.columns\n",
    "data['State']"
   ]
  },
  {
   "cell_type": "code",
   "execution_count": 78,
   "metadata": {},
   "outputs": [],
   "source": [
    "form_only_stats = data[stats_cols].fillna(-1.0)\n",
    "stats = pd.Series(form_only_stats.values.tolist())"
   ]
  },
  {
   "cell_type": "code",
   "execution_count": 79,
   "metadata": {},
   "outputs": [],
   "source": [
    "# data = data.drop(columns=stats_cols)\n",
    "data['stats'] = stats"
   ]
  },
  {
   "cell_type": "code",
   "execution_count": 80,
   "metadata": {},
   "outputs": [
    {
     "data": {
      "text/plain": [
       "barrier\n",
       "2     63006\n",
       "1     62999\n",
       "3     62922\n",
       "4     62345\n",
       "5     60379\n",
       "6     56501\n",
       "7     50654\n",
       "8     43384\n",
       "9     35025\n",
       "10    26898\n",
       "11    18467\n",
       "12    12453\n",
       "13     6134\n",
       "14     3657\n",
       "15      933\n",
       "16      509\n",
       "17       99\n",
       "18       67\n",
       "19       13\n",
       "20        9\n",
       "Name: count, dtype: int64"
      ]
     },
     "execution_count": 80,
     "metadata": {},
     "output_type": "execute_result"
    }
   ],
   "source": [
    "data = data.query('barrier > 0 and barrier <=20')\n",
    "data.barrier.value_counts()"
   ]
  },
  {
   "cell_type": "code",
   "execution_count": 81,
   "metadata": {},
   "outputs": [],
   "source": [
    "data['box'] = data['barrier']"
   ]
  },
  {
   "cell_type": "code",
   "execution_count": 82,
   "metadata": {},
   "outputs": [],
   "source": [
    "data['runtime'] = data['ITimeToFin']\n",
    "data['race_grade'] = data['class']"
   ]
  },
  {
   "cell_type": "code",
   "execution_count": 83,
   "metadata": {},
   "outputs": [],
   "source": [
    "data['stats_cols'] = str([stats_cols])\n",
    "data['stats_cols'] = data['stats_cols'].astype('category')"
   ]
  },
  {
   "cell_type": "code",
   "execution_count": 84,
   "metadata": {},
   "outputs": [],
   "source": [
    "data = data[~data['isBarrierTrial']]"
   ]
  },
  {
   "cell_type": "code",
   "execution_count": 85,
   "metadata": {},
   "outputs": [],
   "source": [
    "data = data.reset_index(drop=True)"
   ]
  },
  {
   "cell_type": "code",
   "execution_count": 86,
   "metadata": {},
   "outputs": [
    {
     "data": {
      "text/plain": [
       "(473112, 108)"
      ]
     },
     "execution_count": 86,
     "metadata": {},
     "output_type": "execute_result"
    }
   ],
   "source": [
    "data.shape"
   ]
  },
  {
   "cell_type": "code",
   "execution_count": 87,
   "metadata": {},
   "outputs": [],
   "source": [
    "race = data[data['raceId']=='879552']"
   ]
  },
  {
   "cell_type": "code",
   "execution_count": 88,
   "metadata": {},
   "outputs": [
    {
     "data": {
      "text/plain": [
       "504    7\n",
       "505    5\n",
       "506    6\n",
       "507    2\n",
       "508    1\n",
       "509    8\n",
       "510    4\n",
       "511    3\n",
       "Name: barrier, dtype: int64"
      ]
     },
     "execution_count": 88,
     "metadata": {},
     "output_type": "execute_result"
    }
   ],
   "source": [
    "race.barrier"
   ]
  },
  {
   "cell_type": "code",
   "execution_count": 89,
   "metadata": {},
   "outputs": [],
   "source": [
    "empty_margin_list = [100]*20\n",
    "margin_list = [x for x in race[\"margin\"]]\n",
    "boxes_list = [int(x) for x in race['box']]\n",
    "for n,x in enumerate(boxes_list):\n",
    "    empty_margin_list[x-1] = margin_list[n]"
   ]
  },
  {
   "cell_type": "code",
   "execution_count": 90,
   "metadata": {},
   "outputs": [
    {
     "name": "stdout",
     "output_type": "stream",
     "text": [
      "[0.0, 1.9, 0.2, 1.3, 4.8, 3.9, 1.8, 0.1, 100, 100, 100, 100, 100, 100, 100, 100, 100, 100, 100, 100]\n"
     ]
    }
   ],
   "source": [
    "print(empty_margin_list)"
   ]
  },
  {
   "cell_type": "code",
   "execution_count": 91,
   "metadata": {},
   "outputs": [],
   "source": [
    "def boosted_softmin(input):\n",
    "    sft_min = nn.Softmin(dim=-1)\n",
    "    return sft_min(torch.exp(input))"
   ]
  },
  {
   "cell_type": "code",
   "execution_count": 92,
   "metadata": {},
   "outputs": [],
   "source": [
    "adjustedMargin = (boosted_softmin(torch.tensor(empty_margin_list)))"
   ]
  },
  {
   "cell_type": "code",
   "execution_count": 93,
   "metadata": {},
   "outputs": [
    {
     "data": {
      "text/plain": [
       "tensor([3.5963e-01, 1.2204e-03, 2.8820e-01, 2.4922e-02, 0.0000e+00, 3.4271e-22,\n",
       "        2.3058e-03, 3.2372e-01, 0.0000e+00, 0.0000e+00, 0.0000e+00, 0.0000e+00,\n",
       "        0.0000e+00, 0.0000e+00, 0.0000e+00, 0.0000e+00, 0.0000e+00, 0.0000e+00,\n",
       "        0.0000e+00, 0.0000e+00])"
      ]
     },
     "execution_count": 93,
     "metadata": {},
     "output_type": "execute_result"
    }
   ],
   "source": [
    "adjustedMargin"
   ]
  },
  {
   "cell_type": "code",
   "execution_count": 94,
   "metadata": {},
   "outputs": [
    {
     "data": {
      "text/plain": [
       "tensor([3.5963e-01, 1.2204e-03, 2.8820e-01, 2.4922e-02, 0.0000e+00, 3.4271e-22,\n",
       "        2.3058e-03, 3.2372e-01, 0.0000e+00, 0.0000e+00, 0.0000e+00, 0.0000e+00,\n",
       "        0.0000e+00, 0.0000e+00, 0.0000e+00, 0.0000e+00, 0.0000e+00, 0.0000e+00,\n",
       "        0.0000e+00, 0.0000e+00], device='cuda:0')"
      ]
     },
     "execution_count": 94,
     "metadata": {},
     "output_type": "execute_result"
    }
   ],
   "source": [
    "adjustedMargin.to('cuda:0')"
   ]
  },
  {
   "cell_type": "code",
   "execution_count": 95,
   "metadata": {},
   "outputs": [],
   "source": [
    "data.reset_index(drop=True).to_feather('horsey_racing_v1.fth')"
   ]
  },
  {
   "cell_type": "code",
   "execution_count": 96,
   "metadata": {},
   "outputs": [],
   "source": [
    "data = data[data['raceId']=='891328']"
   ]
  },
  {
   "cell_type": "code",
   "execution_count": 97,
   "metadata": {},
   "outputs": [
    {
     "name": "stdout",
     "output_type": "stream",
     "text": [
      "       place  barrier\n",
      "80515      8        1\n",
      "80516     14        6\n",
      "80517     12        8\n",
      "80518      6        2\n",
      "80519     13        9\n",
      "80520      1       12\n",
      "80521      2        4\n",
      "80522      4        5\n",
      "80523     10       14\n",
      "80524      3        3\n",
      "80525      7       10\n",
      "80526      9       11\n",
      "80527      5       13\n",
      "80528     11        7\n"
     ]
    }
   ],
   "source": [
    "print(data[['place','barrier']])"
   ]
  },
  {
   "cell_type": "code",
   "execution_count": 98,
   "metadata": {},
   "outputs": [
    {
     "name": "stdout",
     "output_type": "stream",
     "text": [
      "(14, 108)\n"
     ]
    }
   ],
   "source": [
    "print(data.shape)\n",
    "# data = data."
   ]
  },
  {
   "cell_type": "code",
   "execution_count": 99,
   "metadata": {},
   "outputs": [
    {
     "data": {
      "text/plain": [
       "Index(['meetingId', 'raceId', 'horseId', 'meetingDate', 'track', 'trackAbbrev',\n",
       "       'State', 'MPC', 'railPosition', 'TABMeeting',\n",
       "       ...\n",
       "       'bfSP', 'StartPrice', 'place', 'runtime', 'date', 'state', 'dog_name',\n",
       "       'stats', 'race_grade', 'stats_cols'],\n",
       "      dtype='object', length=108)"
      ]
     },
     "execution_count": 99,
     "metadata": {},
     "output_type": "execute_result"
    }
   ],
   "source": [
    "data.columns"
   ]
  },
  {
   "cell_type": "code",
   "execution_count": 100,
   "metadata": {},
   "outputs": [],
   "source": [
    "x = data.groupby('track')['barrier'].max()"
   ]
  },
  {
   "cell_type": "code",
   "execution_count": 101,
   "metadata": {},
   "outputs": [
    {
     "data": {
      "text/plain": [
       "barrier\n",
       "1     1\n",
       "6     1\n",
       "8     1\n",
       "2     1\n",
       "9     1\n",
       "12    1\n",
       "4     1\n",
       "5     1\n",
       "14    1\n",
       "3     1\n",
       "10    1\n",
       "11    1\n",
       "13    1\n",
       "7     1\n",
       "Name: count, dtype: int64"
      ]
     },
     "execution_count": 101,
     "metadata": {},
     "output_type": "execute_result"
    }
   ],
   "source": [
    "data.barrier.value_counts()"
   ]
  },
  {
   "cell_type": "code",
   "execution_count": 102,
   "metadata": {},
   "outputs": [
    {
     "data": {
      "text/plain": [
       "meetingId      14.0\n",
       "horseId        14.0\n",
       "meetingDate    14.0\n",
       "track          14.0\n",
       "trackAbbrev    14.0\n",
       "               ... \n",
       "state          14.0\n",
       "dog_name       14.0\n",
       "stats          14.0\n",
       "race_grade     14.0\n",
       "stats_cols     14.0\n",
       "Length: 107, dtype: float64"
      ]
     },
     "execution_count": 102,
     "metadata": {},
     "output_type": "execute_result"
    }
   ],
   "source": [
    "data.groupby('raceId').count().mean()"
   ]
  },
  {
   "cell_type": "code",
   "execution_count": null,
   "metadata": {},
   "outputs": [],
   "source": []
  }
 ],
 "metadata": {
  "kernelspec": {
   "display_name": "PYTORCH",
   "language": "python",
   "name": "python3"
  },
  "language_info": {
   "codemirror_mode": {
    "name": "ipython",
    "version": 3
   },
   "file_extension": ".py",
   "mimetype": "text/x-python",
   "name": "python",
   "nbconvert_exporter": "python",
   "pygments_lexer": "ipython3",
   "version": "3.11.5"
  }
 },
 "nbformat": 4,
 "nbformat_minor": 2
}
