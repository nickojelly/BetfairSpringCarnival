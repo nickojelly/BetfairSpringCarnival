{
 "cells": [
  {
   "cell_type": "code",
   "execution_count": 1,
   "metadata": {},
   "outputs": [],
   "source": [
    "import pandas as pd\n",
    "import os\n",
    "import tqdm\n",
    "from sklearn.preprocessing import OneHotEncoder\n",
    "import utils.featurecreations as featurecreations\n",
    "import importlib\n",
    "import torch\n",
    "import torch.nn as nn\n",
    "from goto_conversion import goto_conversion"
   ]
  },
  {
   "cell_type": "code",
   "execution_count": 2,
   "metadata": {},
   "outputs": [],
   "source": [
    "# dfs = []\n",
    "# for file in tqdm.tqdm(os.listdir('data')):\n",
    "#     try:\n",
    "#         df = pd.read_excel(f'data/{file}')\n",
    "#         dfs.append(df)\n",
    "#     except:\n",
    "#         print(file,'failed')"
   ]
  },
  {
   "cell_type": "code",
   "execution_count": 3,
   "metadata": {},
   "outputs": [],
   "source": [
    "# data = pd.concat(dfs)"
   ]
  },
  {
   "cell_type": "code",
   "execution_count": 4,
   "metadata": {},
   "outputs": [],
   "source": [
    "# data = data.reset_index(drop=True)"
   ]
  },
  {
   "cell_type": "code",
   "execution_count": 5,
   "metadata": {},
   "outputs": [],
   "source": [
    "# data.to_feather('all_races_data.fth')"
   ]
  },
  {
   "cell_type": "code",
   "execution_count": 6,
   "metadata": {},
   "outputs": [],
   "source": [
    "df = pd.read_feather('all_races_data.fth')"
   ]
  },
  {
   "cell_type": "code",
   "execution_count": 7,
   "metadata": {},
   "outputs": [],
   "source": [
    "data = df"
   ]
  },
  {
   "cell_type": "code",
   "execution_count": 8,
   "metadata": {},
   "outputs": [
    {
     "data": {
      "text/plain": [
       "(566575, 89)"
      ]
     },
     "execution_count": 8,
     "metadata": {},
     "output_type": "execute_result"
    }
   ],
   "source": [
    "data.shape"
   ]
  },
  {
   "cell_type": "code",
   "execution_count": 9,
   "metadata": {},
   "outputs": [],
   "source": [
    "data['meetingId'] = data['meetingId'].astype(int).astype(str)\n",
    "data['raceId'] = data['raceId'].astype(int).astype(str)\n",
    "data['horseId'] = data['horseId'].astype(int).astype(str)"
   ]
  },
  {
   "cell_type": "code",
   "execution_count": 10,
   "metadata": {},
   "outputs": [
    {
     "data": {
      "text/plain": [
       "Index(['meetingId', 'raceId', 'horseId', 'meetingDate', 'track', 'trackAbbrev',\n",
       "       'State', 'MPC', 'railPosition', 'TABMeeting', 'isBarrierTrial',\n",
       "       'hasSectionals', 'resulted', 'raceNo', 'raceName', 'prizeMoney',\n",
       "       'starters', 'startTime', 'class', 'distance', 'prizeMoneyBreakDown',\n",
       "       'ageRestrictions', 'SexRestrictions', 'jockeyRestrictions',\n",
       "       'trackCondition', 'trackConditionNumber', 'raceTime', 'sectional',\n",
       "       'sectionalDistance', 'PFRaceTime', 'PFRaceL600Time', 'limitWeight',\n",
       "       'weightType', 'jumps', 'groupStatus', 'tabNo', 'position', 'margin',\n",
       "       'horse', 'weight', 'barrier', 'inRun', 'flucs', 'priceSP', 'stewards',\n",
       "       'priceBF', 'gears', 'sex', 'age', 'CareerStarts', 'sire', 'dam',\n",
       "       'foalDate', 'trainer', 'jockey', 'jockeyId', 'trainerId', 'jock_claim',\n",
       "       'Reliable', 'RPR', 'RPP', 'WP20R', 'WP20P', 'TP20R', 'TP20P', 'WPTP20R',\n",
       "       'WPTP20P', 'RSFI', 'ScRank', 'SPrice', 'PFScore', 'PrSe', 'AHSP',\n",
       "       'RunStyle', 'PublishTime', 'ClsDiff', 'ETRPrRk', 'ETRPrice',\n",
       "       'ITimeToFin', 'Pos600', 'Pos200', 'Marg600', 'Marg200', 'MargFin',\n",
       "       'Last600Time', 'Last200Time', 'ABML600', 'ABML200', 'ABMFin'],\n",
       "      dtype='object')"
      ]
     },
     "execution_count": 10,
     "metadata": {},
     "output_type": "execute_result"
    }
   ],
   "source": [
    "data.columns"
   ]
  },
  {
   "cell_type": "code",
   "execution_count": 11,
   "metadata": {},
   "outputs": [
    {
     "data": {
      "text/plain": [
       "priceSP\n",
       "0.00      93342\n",
       "21.00     19765\n",
       "31.00     18641\n",
       "26.00     17851\n",
       "101.00    14198\n",
       "          ...  \n",
       "1.05          1\n",
       "124.60        1\n",
       "268.00        1\n",
       "226.20        1\n",
       "121.10        1\n",
       "Name: count, Length: 1479, dtype: int64"
      ]
     },
     "execution_count": 11,
     "metadata": {},
     "output_type": "execute_result"
    }
   ],
   "source": [
    "data.priceSP.value_counts()"
   ]
  },
  {
   "cell_type": "code",
   "execution_count": 12,
   "metadata": {},
   "outputs": [
    {
     "data": {
      "text/plain": [
       "priceBF\n",
       "0.000000      215078\n",
       "55.000000       2348\n",
       "12.000000       2147\n",
       "10.500000       2113\n",
       "11.000000       2091\n",
       "               ...  \n",
       "115.908981         1\n",
       "7.705373           1\n",
       "52.731251          1\n",
       "5.273125           1\n",
       "70.274529          1\n",
       "Name: count, Length: 223825, dtype: int64"
      ]
     },
     "execution_count": 12,
     "metadata": {},
     "output_type": "execute_result"
    }
   ],
   "source": [
    "data.priceBF.value_counts()"
   ]
  },
  {
   "cell_type": "code",
   "execution_count": 13,
   "metadata": {},
   "outputs": [],
   "source": [
    "race1 = data[data['raceId']=='879736']"
   ]
  },
  {
   "cell_type": "code",
   "execution_count": 14,
   "metadata": {},
   "outputs": [
    {
     "data": {
      "text/html": [
       "<div>\n",
       "<style scoped>\n",
       "    .dataframe tbody tr th:only-of-type {\n",
       "        vertical-align: middle;\n",
       "    }\n",
       "\n",
       "    .dataframe tbody tr th {\n",
       "        vertical-align: top;\n",
       "    }\n",
       "\n",
       "    .dataframe thead th {\n",
       "        text-align: right;\n",
       "    }\n",
       "</style>\n",
       "<table border=\"1\" class=\"dataframe\">\n",
       "  <thead>\n",
       "    <tr style=\"text-align: right;\">\n",
       "      <th></th>\n",
       "      <th>meetingId</th>\n",
       "      <th>raceId</th>\n",
       "      <th>horseId</th>\n",
       "      <th>meetingDate</th>\n",
       "      <th>track</th>\n",
       "      <th>trackAbbrev</th>\n",
       "      <th>State</th>\n",
       "      <th>MPC</th>\n",
       "      <th>railPosition</th>\n",
       "      <th>TABMeeting</th>\n",
       "      <th>...</th>\n",
       "      <th>Pos600</th>\n",
       "      <th>Pos200</th>\n",
       "      <th>Marg600</th>\n",
       "      <th>Marg200</th>\n",
       "      <th>MargFin</th>\n",
       "      <th>Last600Time</th>\n",
       "      <th>Last200Time</th>\n",
       "      <th>ABML600</th>\n",
       "      <th>ABML200</th>\n",
       "      <th>ABMFin</th>\n",
       "    </tr>\n",
       "  </thead>\n",
       "  <tbody>\n",
       "    <tr>\n",
       "      <th>1167</th>\n",
       "      <td>178543</td>\n",
       "      <td>879736</td>\n",
       "      <td>921720</td>\n",
       "      <td>03/09/2021</td>\n",
       "      <td>Albury</td>\n",
       "      <td>ALB</td>\n",
       "      <td>NSW</td>\n",
       "      <td>C</td>\n",
       "      <td>True</td>\n",
       "      <td>True</td>\n",
       "      <td>...</td>\n",
       "      <td>5</td>\n",
       "      <td>3</td>\n",
       "      <td>5.1</td>\n",
       "      <td>1.3</td>\n",
       "      <td>0.0</td>\n",
       "      <td>35.20</td>\n",
       "      <td>12.50</td>\n",
       "      <td>-3.5</td>\n",
       "      <td>0.8</td>\n",
       "      <td>5.4</td>\n",
       "    </tr>\n",
       "    <tr>\n",
       "      <th>1168</th>\n",
       "      <td>178543</td>\n",
       "      <td>879736</td>\n",
       "      <td>909170</td>\n",
       "      <td>03/09/2021</td>\n",
       "      <td>Albury</td>\n",
       "      <td>ALB</td>\n",
       "      <td>NSW</td>\n",
       "      <td>C</td>\n",
       "      <td>True</td>\n",
       "      <td>True</td>\n",
       "      <td>...</td>\n",
       "      <td>6</td>\n",
       "      <td>4</td>\n",
       "      <td>5.3</td>\n",
       "      <td>2.5</td>\n",
       "      <td>3.7</td>\n",
       "      <td>35.84</td>\n",
       "      <td>12.96</td>\n",
       "      <td>0.7</td>\n",
       "      <td>3.8</td>\n",
       "      <td>9.8</td>\n",
       "    </tr>\n",
       "    <tr>\n",
       "      <th>1169</th>\n",
       "      <td>178543</td>\n",
       "      <td>879736</td>\n",
       "      <td>941305</td>\n",
       "      <td>03/09/2021</td>\n",
       "      <td>Albury</td>\n",
       "      <td>ALB</td>\n",
       "      <td>NSW</td>\n",
       "      <td>C</td>\n",
       "      <td>True</td>\n",
       "      <td>True</td>\n",
       "      <td>...</td>\n",
       "      <td>4</td>\n",
       "      <td>2</td>\n",
       "      <td>3.6</td>\n",
       "      <td>1.1</td>\n",
       "      <td>0.5</td>\n",
       "      <td>35.52</td>\n",
       "      <td>12.60</td>\n",
       "      <td>-1.1</td>\n",
       "      <td>1.7</td>\n",
       "      <td>6.0</td>\n",
       "    </tr>\n",
       "    <tr>\n",
       "      <th>1170</th>\n",
       "      <td>178543</td>\n",
       "      <td>879736</td>\n",
       "      <td>884221</td>\n",
       "      <td>03/09/2021</td>\n",
       "      <td>Albury</td>\n",
       "      <td>ALB</td>\n",
       "      <td>NSW</td>\n",
       "      <td>C</td>\n",
       "      <td>True</td>\n",
       "      <td>True</td>\n",
       "      <td>...</td>\n",
       "      <td>3</td>\n",
       "      <td>5</td>\n",
       "      <td>2.5</td>\n",
       "      <td>3.4</td>\n",
       "      <td>6.7</td>\n",
       "      <td>36.86</td>\n",
       "      <td>13.36</td>\n",
       "      <td>7.6</td>\n",
       "      <td>6.3</td>\n",
       "      <td>13.4</td>\n",
       "    </tr>\n",
       "    <tr>\n",
       "      <th>1171</th>\n",
       "      <td>178543</td>\n",
       "      <td>879736</td>\n",
       "      <td>917728</td>\n",
       "      <td>03/09/2021</td>\n",
       "      <td>Albury</td>\n",
       "      <td>ALB</td>\n",
       "      <td>NSW</td>\n",
       "      <td>C</td>\n",
       "      <td>True</td>\n",
       "      <td>True</td>\n",
       "      <td>...</td>\n",
       "      <td>2</td>\n",
       "      <td>6</td>\n",
       "      <td>2.4</td>\n",
       "      <td>4.3</td>\n",
       "      <td>11.5</td>\n",
       "      <td>37.68</td>\n",
       "      <td>14.00</td>\n",
       "      <td>13.5</td>\n",
       "      <td>11.0</td>\n",
       "      <td>19.2</td>\n",
       "    </tr>\n",
       "    <tr>\n",
       "      <th>1172</th>\n",
       "      <td>178543</td>\n",
       "      <td>879736</td>\n",
       "      <td>893930</td>\n",
       "      <td>03/09/2021</td>\n",
       "      <td>Albury</td>\n",
       "      <td>ALB</td>\n",
       "      <td>NSW</td>\n",
       "      <td>C</td>\n",
       "      <td>True</td>\n",
       "      <td>True</td>\n",
       "      <td>...</td>\n",
       "      <td>1</td>\n",
       "      <td>1</td>\n",
       "      <td>0.0</td>\n",
       "      <td>0.0</td>\n",
       "      <td>3.5</td>\n",
       "      <td>36.68</td>\n",
       "      <td>13.36</td>\n",
       "      <td>6.8</td>\n",
       "      <td>6.6</td>\n",
       "      <td>9.6</td>\n",
       "    </tr>\n",
       "  </tbody>\n",
       "</table>\n",
       "<p>6 rows × 89 columns</p>\n",
       "</div>"
      ],
      "text/plain": [
       "     meetingId  raceId horseId meetingDate   track trackAbbrev State MPC  \\\n",
       "1167    178543  879736  921720  03/09/2021  Albury         ALB   NSW   C   \n",
       "1168    178543  879736  909170  03/09/2021  Albury         ALB   NSW   C   \n",
       "1169    178543  879736  941305  03/09/2021  Albury         ALB   NSW   C   \n",
       "1170    178543  879736  884221  03/09/2021  Albury         ALB   NSW   C   \n",
       "1171    178543  879736  917728  03/09/2021  Albury         ALB   NSW   C   \n",
       "1172    178543  879736  893930  03/09/2021  Albury         ALB   NSW   C   \n",
       "\n",
       "     railPosition  TABMeeting  ...  Pos600  Pos200  Marg600  Marg200 MargFin  \\\n",
       "1167         True        True  ...       5       3      5.1      1.3     0.0   \n",
       "1168         True        True  ...       6       4      5.3      2.5     3.7   \n",
       "1169         True        True  ...       4       2      3.6      1.1     0.5   \n",
       "1170         True        True  ...       3       5      2.5      3.4     6.7   \n",
       "1171         True        True  ...       2       6      2.4      4.3    11.5   \n",
       "1172         True        True  ...       1       1      0.0      0.0     3.5   \n",
       "\n",
       "      Last600Time  Last200Time ABML600 ABML200  ABMFin  \n",
       "1167        35.20        12.50    -3.5     0.8     5.4  \n",
       "1168        35.84        12.96     0.7     3.8     9.8  \n",
       "1169        35.52        12.60    -1.1     1.7     6.0  \n",
       "1170        36.86        13.36     7.6     6.3    13.4  \n",
       "1171        37.68        14.00    13.5    11.0    19.2  \n",
       "1172        36.68        13.36     6.8     6.6     9.6  \n",
       "\n",
       "[6 rows x 89 columns]"
      ]
     },
     "execution_count": 14,
     "metadata": {},
     "output_type": "execute_result"
    }
   ],
   "source": [
    "race1"
   ]
  },
  {
   "cell_type": "code",
   "execution_count": 15,
   "metadata": {},
   "outputs": [],
   "source": [
    "# data['isBarrierTrial'].value_counts()"
   ]
  },
  {
   "cell_type": "code",
   "execution_count": 16,
   "metadata": {},
   "outputs": [],
   "source": [
    "# data['stats_sum'] = data[stats_cols].fillna(0).sum(axis='columns' )"
   ]
  },
  {
   "cell_type": "code",
   "execution_count": 17,
   "metadata": {},
   "outputs": [],
   "source": [
    "# data['stats_sum']"
   ]
  },
  {
   "cell_type": "code",
   "execution_count": 18,
   "metadata": {},
   "outputs": [],
   "source": [
    "# data['stats_sum'].value_counts()"
   ]
  },
  {
   "cell_type": "code",
   "execution_count": 2,
   "metadata": {},
   "outputs": [],
   "source": [
    "stats_cols = ['RPR', 'RPP', 'WP20R', 'WP20P', 'TP20R', 'TP20P', 'WPTP20R',\n",
    "       'WPTP20P', 'RSFI', 'ScRank', 'SPrice', 'PFScore', 'PrSe', 'AHSP',\n",
    "       'ClsDiff','ETRPrRk','ETRPrice'\n",
    "       ]"
   ]
  },
  {
   "cell_type": "code",
   "execution_count": 3,
   "metadata": {},
   "outputs": [],
   "source": [
    "st = ''\n",
    "for r in stats_cols:\n",
    "    st = st+'+'+r"
   ]
  },
  {
   "cell_type": "code",
   "execution_count": 4,
   "metadata": {},
   "outputs": [
    {
     "data": {
      "text/plain": [
       "'+RPR+RPP+WP20R+WP20P+TP20R+TP20P+WPTP20R+WPTP20P+RSFI+ScRank+SPrice+PFScore+PrSe+AHSP+ClsDiff+ETRPrRk+ETRPrice'"
      ]
     },
     "execution_count": 4,
     "metadata": {},
     "output_type": "execute_result"
    }
   ],
   "source": [
    "st"
   ]
  },
  {
   "cell_type": "code",
   "execution_count": 20,
   "metadata": {},
   "outputs": [],
   "source": [
    "data['dog_id'] = data['horseId']\n",
    "data['box'] = data['barrier']\n",
    "data['bfSP'] = data['priceSP']\n",
    "data['margin'] = data['MargFin']\n",
    "data['StartPrice'] = data['priceSP']\n",
    "data['place'] = data['position']\n",
    "data['runtime'] = data['ITimeToFin']\n",
    "data['date'] = pd.to_datetime(data['meetingDate'], format='mixed', dayfirst=True ).dt.date\n",
    "# data['date'] = pd.Timestamp(data['date'])\n",
    "data['state'] = data['State']\n",
    "data['dog_name'] = data['horse']"
   ]
  },
  {
   "cell_type": "code",
   "execution_count": 21,
   "metadata": {},
   "outputs": [],
   "source": [
    "stats = data[stats_cols]"
   ]
  },
  {
   "cell_type": "code",
   "execution_count": 22,
   "metadata": {},
   "outputs": [
    {
     "data": {
      "text/plain": [
       "0      op/mf\n",
       "1      op/mf\n",
       "2    no data\n",
       "3      mf/bm\n",
       "4      mf/bm\n",
       "Name: RunStyle, dtype: object"
      ]
     },
     "execution_count": 22,
     "metadata": {},
     "output_type": "execute_result"
    }
   ],
   "source": [
    "data.RunStyle.head()"
   ]
  },
  {
   "cell_type": "code",
   "execution_count": 23,
   "metadata": {},
   "outputs": [
    {
     "data": {
      "text/plain": [
       "RunStyle\n",
       "mf         105407\n",
       "bm         102434\n",
       "op          72480\n",
       "op/mf       67431\n",
       "mf/bm       64248\n",
       "l           31448\n",
       "no data     28344\n",
       "Name: count, dtype: int64"
      ]
     },
     "execution_count": 23,
     "metadata": {},
     "output_type": "execute_result"
    }
   ],
   "source": [
    "data.RunStyle.value_counts()"
   ]
  },
  {
   "cell_type": "code",
   "execution_count": 24,
   "metadata": {},
   "outputs": [],
   "source": [
    "data['goto'] = 0\n",
    "race_groups = data.groupby('raceId')"
   ]
  },
  {
   "cell_type": "code",
   "execution_count": 25,
   "metadata": {},
   "outputs": [
    {
     "data": {
      "text/html": [
       "<div>\n",
       "<style scoped>\n",
       "    .dataframe tbody tr th:only-of-type {\n",
       "        vertical-align: middle;\n",
       "    }\n",
       "\n",
       "    .dataframe tbody tr th {\n",
       "        vertical-align: top;\n",
       "    }\n",
       "\n",
       "    .dataframe thead th {\n",
       "        text-align: right;\n",
       "    }\n",
       "</style>\n",
       "<table border=\"1\" class=\"dataframe\">\n",
       "  <thead>\n",
       "    <tr style=\"text-align: right;\">\n",
       "      <th></th>\n",
       "      <th>meetingId</th>\n",
       "      <th>raceId</th>\n",
       "      <th>horseId</th>\n",
       "      <th>meetingDate</th>\n",
       "      <th>track</th>\n",
       "      <th>trackAbbrev</th>\n",
       "      <th>State</th>\n",
       "      <th>MPC</th>\n",
       "      <th>railPosition</th>\n",
       "      <th>TABMeeting</th>\n",
       "      <th>...</th>\n",
       "      <th>dog_id</th>\n",
       "      <th>box</th>\n",
       "      <th>bfSP</th>\n",
       "      <th>StartPrice</th>\n",
       "      <th>place</th>\n",
       "      <th>runtime</th>\n",
       "      <th>date</th>\n",
       "      <th>state</th>\n",
       "      <th>dog_name</th>\n",
       "      <th>goto</th>\n",
       "    </tr>\n",
       "  </thead>\n",
       "  <tbody>\n",
       "    <tr>\n",
       "      <th>0</th>\n",
       "      <td>178515</td>\n",
       "      <td>879507</td>\n",
       "      <td>924156</td>\n",
       "      <td>01/09/2021</td>\n",
       "      <td>Ashburton</td>\n",
       "      <td>ASH</td>\n",
       "      <td>NZ</td>\n",
       "      <td>X</td>\n",
       "      <td>True</td>\n",
       "      <td>True</td>\n",
       "      <td>...</td>\n",
       "      <td>924156</td>\n",
       "      <td>2</td>\n",
       "      <td>13.6</td>\n",
       "      <td>13.6</td>\n",
       "      <td>5</td>\n",
       "      <td>0.0</td>\n",
       "      <td>2021-09-01</td>\n",
       "      <td>NZ</td>\n",
       "      <td>Maxwell</td>\n",
       "      <td>0</td>\n",
       "    </tr>\n",
       "    <tr>\n",
       "      <th>1</th>\n",
       "      <td>178515</td>\n",
       "      <td>879507</td>\n",
       "      <td>945590</td>\n",
       "      <td>01/09/2021</td>\n",
       "      <td>Ashburton</td>\n",
       "      <td>ASH</td>\n",
       "      <td>NZ</td>\n",
       "      <td>X</td>\n",
       "      <td>True</td>\n",
       "      <td>True</td>\n",
       "      <td>...</td>\n",
       "      <td>945590</td>\n",
       "      <td>8</td>\n",
       "      <td>9.6</td>\n",
       "      <td>9.6</td>\n",
       "      <td>9</td>\n",
       "      <td>0.0</td>\n",
       "      <td>2021-09-01</td>\n",
       "      <td>NZ</td>\n",
       "      <td>Seraphic</td>\n",
       "      <td>0</td>\n",
       "    </tr>\n",
       "    <tr>\n",
       "      <th>2</th>\n",
       "      <td>178515</td>\n",
       "      <td>879507</td>\n",
       "      <td>956462</td>\n",
       "      <td>01/09/2021</td>\n",
       "      <td>Ashburton</td>\n",
       "      <td>ASH</td>\n",
       "      <td>NZ</td>\n",
       "      <td>X</td>\n",
       "      <td>True</td>\n",
       "      <td>True</td>\n",
       "      <td>...</td>\n",
       "      <td>956462</td>\n",
       "      <td>1</td>\n",
       "      <td>26.0</td>\n",
       "      <td>26.0</td>\n",
       "      <td>10</td>\n",
       "      <td>0.0</td>\n",
       "      <td>2021-09-01</td>\n",
       "      <td>NZ</td>\n",
       "      <td>Cavalryman</td>\n",
       "      <td>0</td>\n",
       "    </tr>\n",
       "    <tr>\n",
       "      <th>3</th>\n",
       "      <td>178515</td>\n",
       "      <td>879507</td>\n",
       "      <td>941443</td>\n",
       "      <td>01/09/2021</td>\n",
       "      <td>Ashburton</td>\n",
       "      <td>ASH</td>\n",
       "      <td>NZ</td>\n",
       "      <td>X</td>\n",
       "      <td>True</td>\n",
       "      <td>True</td>\n",
       "      <td>...</td>\n",
       "      <td>941443</td>\n",
       "      <td>6</td>\n",
       "      <td>1.8</td>\n",
       "      <td>1.8</td>\n",
       "      <td>1</td>\n",
       "      <td>0.0</td>\n",
       "      <td>2021-09-01</td>\n",
       "      <td>NZ</td>\n",
       "      <td>Lovingyourwork</td>\n",
       "      <td>0</td>\n",
       "    </tr>\n",
       "    <tr>\n",
       "      <th>4</th>\n",
       "      <td>178515</td>\n",
       "      <td>879507</td>\n",
       "      <td>928793</td>\n",
       "      <td>01/09/2021</td>\n",
       "      <td>Ashburton</td>\n",
       "      <td>ASH</td>\n",
       "      <td>NZ</td>\n",
       "      <td>X</td>\n",
       "      <td>True</td>\n",
       "      <td>True</td>\n",
       "      <td>...</td>\n",
       "      <td>928793</td>\n",
       "      <td>9</td>\n",
       "      <td>6.7</td>\n",
       "      <td>6.7</td>\n",
       "      <td>6</td>\n",
       "      <td>0.0</td>\n",
       "      <td>2021-09-01</td>\n",
       "      <td>NZ</td>\n",
       "      <td>Choice Moment</td>\n",
       "      <td>0</td>\n",
       "    </tr>\n",
       "    <tr>\n",
       "      <th>...</th>\n",
       "      <td>...</td>\n",
       "      <td>...</td>\n",
       "      <td>...</td>\n",
       "      <td>...</td>\n",
       "      <td>...</td>\n",
       "      <td>...</td>\n",
       "      <td>...</td>\n",
       "      <td>...</td>\n",
       "      <td>...</td>\n",
       "      <td>...</td>\n",
       "      <td>...</td>\n",
       "      <td>...</td>\n",
       "      <td>...</td>\n",
       "      <td>...</td>\n",
       "      <td>...</td>\n",
       "      <td>...</td>\n",
       "      <td>...</td>\n",
       "      <td>...</td>\n",
       "      <td>...</td>\n",
       "      <td>...</td>\n",
       "      <td>...</td>\n",
       "    </tr>\n",
       "    <tr>\n",
       "      <th>566570</th>\n",
       "      <td>199884</td>\n",
       "      <td>1030736</td>\n",
       "      <td>978927</td>\n",
       "      <td>21/10/2023</td>\n",
       "      <td>Caulfield</td>\n",
       "      <td>CAUL</td>\n",
       "      <td>VIC</td>\n",
       "      <td>M</td>\n",
       "      <td>Out 3m Entire Circuit</td>\n",
       "      <td>True</td>\n",
       "      <td>...</td>\n",
       "      <td>978927</td>\n",
       "      <td>11</td>\n",
       "      <td>8.5</td>\n",
       "      <td>8.5</td>\n",
       "      <td>0</td>\n",
       "      <td>0.0</td>\n",
       "      <td>2023-10-21</td>\n",
       "      <td>VIC</td>\n",
       "      <td>Saltaire</td>\n",
       "      <td>0</td>\n",
       "    </tr>\n",
       "    <tr>\n",
       "      <th>566571</th>\n",
       "      <td>199884</td>\n",
       "      <td>1030736</td>\n",
       "      <td>950861</td>\n",
       "      <td>21/10/2023</td>\n",
       "      <td>Caulfield</td>\n",
       "      <td>CAUL</td>\n",
       "      <td>VIC</td>\n",
       "      <td>M</td>\n",
       "      <td>Out 3m Entire Circuit</td>\n",
       "      <td>True</td>\n",
       "      <td>...</td>\n",
       "      <td>950861</td>\n",
       "      <td>4</td>\n",
       "      <td>21.0</td>\n",
       "      <td>21.0</td>\n",
       "      <td>0</td>\n",
       "      <td>0.0</td>\n",
       "      <td>2023-10-21</td>\n",
       "      <td>VIC</td>\n",
       "      <td>Willinga Beast</td>\n",
       "      <td>0</td>\n",
       "    </tr>\n",
       "    <tr>\n",
       "      <th>566572</th>\n",
       "      <td>199884</td>\n",
       "      <td>1030736</td>\n",
       "      <td>945687</td>\n",
       "      <td>21/10/2023</td>\n",
       "      <td>Caulfield</td>\n",
       "      <td>CAUL</td>\n",
       "      <td>VIC</td>\n",
       "      <td>M</td>\n",
       "      <td>Out 3m Entire Circuit</td>\n",
       "      <td>True</td>\n",
       "      <td>...</td>\n",
       "      <td>945687</td>\n",
       "      <td>7</td>\n",
       "      <td>14.0</td>\n",
       "      <td>14.0</td>\n",
       "      <td>0</td>\n",
       "      <td>0.0</td>\n",
       "      <td>2023-10-21</td>\n",
       "      <td>VIC</td>\n",
       "      <td>Miss Middle Park</td>\n",
       "      <td>0</td>\n",
       "    </tr>\n",
       "    <tr>\n",
       "      <th>566573</th>\n",
       "      <td>199884</td>\n",
       "      <td>1030736</td>\n",
       "      <td>954619</td>\n",
       "      <td>21/10/2023</td>\n",
       "      <td>Caulfield</td>\n",
       "      <td>CAUL</td>\n",
       "      <td>VIC</td>\n",
       "      <td>M</td>\n",
       "      <td>Out 3m Entire Circuit</td>\n",
       "      <td>True</td>\n",
       "      <td>...</td>\n",
       "      <td>954619</td>\n",
       "      <td>5</td>\n",
       "      <td>12.0</td>\n",
       "      <td>12.0</td>\n",
       "      <td>0</td>\n",
       "      <td>0.0</td>\n",
       "      <td>2023-10-21</td>\n",
       "      <td>VIC</td>\n",
       "      <td>Lempicka</td>\n",
       "      <td>0</td>\n",
       "    </tr>\n",
       "    <tr>\n",
       "      <th>566574</th>\n",
       "      <td>199884</td>\n",
       "      <td>1030736</td>\n",
       "      <td>954743</td>\n",
       "      <td>21/10/2023</td>\n",
       "      <td>Caulfield</td>\n",
       "      <td>CAUL</td>\n",
       "      <td>VIC</td>\n",
       "      <td>M</td>\n",
       "      <td>Out 3m Entire Circuit</td>\n",
       "      <td>True</td>\n",
       "      <td>...</td>\n",
       "      <td>954743</td>\n",
       "      <td>9</td>\n",
       "      <td>5.5</td>\n",
       "      <td>5.5</td>\n",
       "      <td>0</td>\n",
       "      <td>0.0</td>\n",
       "      <td>2023-10-21</td>\n",
       "      <td>VIC</td>\n",
       "      <td>Ghaanati</td>\n",
       "      <td>0</td>\n",
       "    </tr>\n",
       "  </tbody>\n",
       "</table>\n",
       "<p>566575 rows × 99 columns</p>\n",
       "</div>"
      ],
      "text/plain": [
       "       meetingId   raceId horseId meetingDate      track trackAbbrev State  \\\n",
       "0         178515   879507  924156  01/09/2021  Ashburton         ASH    NZ   \n",
       "1         178515   879507  945590  01/09/2021  Ashburton         ASH    NZ   \n",
       "2         178515   879507  956462  01/09/2021  Ashburton         ASH    NZ   \n",
       "3         178515   879507  941443  01/09/2021  Ashburton         ASH    NZ   \n",
       "4         178515   879507  928793  01/09/2021  Ashburton         ASH    NZ   \n",
       "...          ...      ...     ...         ...        ...         ...   ...   \n",
       "566570    199884  1030736  978927  21/10/2023  Caulfield        CAUL   VIC   \n",
       "566571    199884  1030736  950861  21/10/2023  Caulfield        CAUL   VIC   \n",
       "566572    199884  1030736  945687  21/10/2023  Caulfield        CAUL   VIC   \n",
       "566573    199884  1030736  954619  21/10/2023  Caulfield        CAUL   VIC   \n",
       "566574    199884  1030736  954743  21/10/2023  Caulfield        CAUL   VIC   \n",
       "\n",
       "       MPC           railPosition  TABMeeting  ...  dog_id  box  bfSP  \\\n",
       "0        X                   True        True  ...  924156    2  13.6   \n",
       "1        X                   True        True  ...  945590    8   9.6   \n",
       "2        X                   True        True  ...  956462    1  26.0   \n",
       "3        X                   True        True  ...  941443    6   1.8   \n",
       "4        X                   True        True  ...  928793    9   6.7   \n",
       "...     ..                    ...         ...  ...     ...  ...   ...   \n",
       "566570   M  Out 3m Entire Circuit        True  ...  978927   11   8.5   \n",
       "566571   M  Out 3m Entire Circuit        True  ...  950861    4  21.0   \n",
       "566572   M  Out 3m Entire Circuit        True  ...  945687    7  14.0   \n",
       "566573   M  Out 3m Entire Circuit        True  ...  954619    5  12.0   \n",
       "566574   M  Out 3m Entire Circuit        True  ...  954743    9   5.5   \n",
       "\n",
       "        StartPrice place  runtime        date state          dog_name  goto  \n",
       "0             13.6     5      0.0  2021-09-01    NZ           Maxwell     0  \n",
       "1              9.6     9      0.0  2021-09-01    NZ          Seraphic     0  \n",
       "2             26.0    10      0.0  2021-09-01    NZ        Cavalryman     0  \n",
       "3              1.8     1      0.0  2021-09-01    NZ    Lovingyourwork     0  \n",
       "4              6.7     6      0.0  2021-09-01    NZ     Choice Moment     0  \n",
       "...            ...   ...      ...         ...   ...               ...   ...  \n",
       "566570         8.5     0      0.0  2023-10-21   VIC          Saltaire     0  \n",
       "566571        21.0     0      0.0  2023-10-21   VIC    Willinga Beast     0  \n",
       "566572        14.0     0      0.0  2023-10-21   VIC  Miss Middle Park     0  \n",
       "566573        12.0     0      0.0  2023-10-21   VIC          Lempicka     0  \n",
       "566574         5.5     0      0.0  2023-10-21   VIC          Ghaanati     0  \n",
       "\n",
       "[566575 rows x 99 columns]"
      ]
     },
     "execution_count": 25,
     "metadata": {},
     "output_type": "execute_result"
    }
   ],
   "source": [
    "data"
   ]
  },
  {
   "cell_type": "code",
   "execution_count": 26,
   "metadata": {},
   "outputs": [
    {
     "name": "stderr",
     "output_type": "stream",
     "text": [
      "  0%|          | 1/63000 [00:00<4:13:16,  4.15it/s]C:\\Users\\Nick\\AppData\\Local\\Temp\\ipykernel_11580\\2082423460.py:6: SettingWithCopyWarning: \n",
      "A value is trying to be set on a copy of a slice from a DataFrame\n",
      "\n",
      "See the caveats in the documentation: https://pandas.pydata.org/pandas-docs/stable/user_guide/indexing.html#returning-a-view-versus-a-copy\n",
      "  data['goto'].loc[datag.index[0]:datag.index[-1]] = goto_conversion(datag.priceSP)\n",
      "C:\\Users\\Nick\\AppData\\Local\\Temp\\ipykernel_11580\\2082423460.py:6: FutureWarning: Setting an item of incompatible dtype is deprecated and will raise in a future error of pandas. Value '[0.48184915842726933, 1e-06, 0.013290850006421589, 0.38841573800635115, 1e-06, 1e-06, 0.022568506334205925, 0.08690998901413688, 0.027647047108710573]' has dtype incompatible with int64, please explicitly cast to a compatible dtype first.\n",
      "  data['goto'].loc[datag.index[0]:datag.index[-1]] = goto_conversion(datag.priceSP)\n",
      "100%|██████████| 63000/63000 [00:10<00:00, 6208.59it/s]\n"
     ]
    }
   ],
   "source": [
    "for key,datag in tqdm.tqdm(race_groups):\n",
    "    # print(key,data)\n",
    "    num_horses = datag.shape[0]\n",
    "    # print(num_horses)\n",
    "    try:\n",
    "        data['goto'].loc[datag.index[0]:datag.index[-1]] = goto_conversion(datag.priceSP)\n",
    "    except Exception as e :\n",
    "        pass\n",
    "        # print(e)\n",
    "    # break"
   ]
  },
  {
   "cell_type": "code",
   "execution_count": 27,
   "metadata": {},
   "outputs": [
    {
     "data": {
      "text/plain": [
       "48889.71699137148"
      ]
     },
     "execution_count": 27,
     "metadata": {},
     "output_type": "execute_result"
    }
   ],
   "source": [
    "data.goto.sum()"
   ]
  },
  {
   "cell_type": "code",
   "execution_count": 28,
   "metadata": {},
   "outputs": [],
   "source": [
    "run_style_ohe = OneHotEncoder(sparse_output=False)\n",
    "run_style_one_hot = run_style_ohe.fit_transform(data[['RunStyle']])\n",
    "track_ohe = OneHotEncoder(sparse_output=False)\n",
    "track_one_hot = track_ohe.fit_transform(data[['track']])"
   ]
  },
  {
   "cell_type": "code",
   "execution_count": 29,
   "metadata": {},
   "outputs": [],
   "source": [
    "data[\"run_style_one_hot\"] = run_style_one_hot.tolist()\n",
    "data[\"tracks_one_hot\"] = track_one_hot.tolist()"
   ]
  },
  {
   "cell_type": "code",
   "execution_count": 30,
   "metadata": {},
   "outputs": [
    {
     "data": {
      "text/plain": [
       "404"
      ]
     },
     "execution_count": 30,
     "metadata": {},
     "output_type": "execute_result"
    }
   ],
   "source": [
    "len(data[\"tracks_one_hot\"].iloc[0])"
   ]
  },
  {
   "cell_type": "code",
   "execution_count": 31,
   "metadata": {},
   "outputs": [],
   "source": [
    "horse_form = data.groupby(['horseId'], sort=False, as_index=False)"
   ]
  },
  {
   "cell_type": "code",
   "execution_count": 32,
   "metadata": {},
   "outputs": [
    {
     "data": {
      "text/plain": [
       "<module 'utils.featurecreations' from 'c:\\\\Users\\\\Nick\\\\Documents\\\\GitHub\\\\BetfairSpringCarnival\\\\src\\\\utils\\\\featurecreations.py'>"
      ]
     },
     "execution_count": 32,
     "metadata": {},
     "output_type": "execute_result"
    }
   ],
   "source": [
    "importlib.reload(featurecreations)"
   ]
  },
  {
   "cell_type": "code",
   "execution_count": 33,
   "metadata": {},
   "outputs": [],
   "source": [
    "data = featurecreations.generate_prev_race(data, horse_form)"
   ]
  },
  {
   "cell_type": "code",
   "execution_count": 34,
   "metadata": {},
   "outputs": [
    {
     "data": {
      "text/plain": [
       "'1027248'"
      ]
     },
     "execution_count": 34,
     "metadata": {},
     "output_type": "execute_result"
    }
   ],
   "source": [
    "data['prev_race'].iloc[-1]"
   ]
  },
  {
   "cell_type": "code",
   "execution_count": 39,
   "metadata": {},
   "outputs": [],
   "source": [
    "for k,v in tqdm(horse_groups:\n",
    "    try:\n",
    "        v.distance\n",
    "    except Exception as e:\n",
    "        print(e)"
   ]
  },
  {
   "cell_type": "code",
   "execution_count": 44,
   "metadata": {},
   "outputs": [],
   "source": [
    "horse_groups = data.groupby('horseId', sort=False, as_index=False)\n",
    "data = featurecreations.generate_horse_stats_simple(data,horse_groups,rolling_window=1)"
   ]
  },
  {
   "cell_type": "code",
   "execution_count": 41,
   "metadata": {},
   "outputs": [],
   "source": [
    "data['dog_id'] = data['horseId']\n",
    "data['box'] = data['barrier']\n",
    "data['bfSP'] = data['priceSP']\n",
    "data['margin'] = data['MargFin']\n",
    "data['StartPrice'] = data['priceSP']\n",
    "data['place'] = data['position']\n",
    "data['runtime'] = data['ITimeToFin']\n",
    "data['date'] = pd.to_datetime(data['meetingDate'], format='mixed', dayfirst=True ).dt.date\n",
    "# data['date'] = pd.Timestamp(data['date'])\n",
    "data['state'] = data['State']\n",
    "data['dog_name'] = data['horse']\n",
    "# data = data[]"
   ]
  },
  {
   "cell_type": "code",
   "execution_count": 43,
   "metadata": {},
   "outputs": [
    {
     "data": {
      "text/plain": [
       "Index(['meetingId', 'raceId', 'horseId', 'meetingDate', 'track', 'trackAbbrev',\n",
       "       'State', 'MPC', 'railPosition', 'TABMeeting',\n",
       "       ...\n",
       "       'prev_race_track', 'prev_race_state', 'next_race', 'dist_last__10',\n",
       "       'box_last__10', 'margin_fin_avg_10', 'margin_200_avg_10',\n",
       "       'margin_600_avg_10', 'last_start_price', 'last_start_prob'],\n",
       "      dtype='object', length=113)"
      ]
     },
     "execution_count": 43,
     "metadata": {},
     "output_type": "execute_result"
    }
   ],
   "source": [
    "# data.barrier?\n",
    "data.columns\n",
    "# data['State']"
   ]
  },
  {
   "cell_type": "code",
   "execution_count": 45,
   "metadata": {},
   "outputs": [],
   "source": [
    "stats_cols_new = stats_cols+['dist_last__10',\n",
    "       'box_last__10', 'margin_fin_avg_10', 'margin_200_avg_10',\n",
    "       'margin_600_avg_10', 'last_start_price', 'last_start_prob']"
   ]
  },
  {
   "cell_type": "code",
   "execution_count": 52,
   "metadata": {},
   "outputs": [],
   "source": [
    "form_only_stats = data[stats_cols_new].fillna(-1.0)\n",
    "stats_w_runstyle = [x+y for x,y in zip(form_only_stats.values.tolist(),data.run_style_one_hot)]\n",
    "stats = pd.Series(stats_w_runstyle)"
   ]
  },
  {
   "cell_type": "code",
   "execution_count": 53,
   "metadata": {},
   "outputs": [
    {
     "data": {
      "text/plain": [
       "[7.0,\n",
       " 16.81,\n",
       " 3.0,\n",
       " 7.89,\n",
       " 3.0,\n",
       " 7.18,\n",
       " 3.0,\n",
       " 7.52,\n",
       " 0.0,\n",
       " 25.0,\n",
       " 900.0,\n",
       " 70.0,\n",
       " 1.0,\n",
       " 41.3,\n",
       " 0.3,\n",
       " 25.0,\n",
       " 900.0,\n",
       " -1.0,\n",
       " -1.0,\n",
       " -1.0,\n",
       " -1.0,\n",
       " -1.0,\n",
       " -1.0,\n",
       " -1.0,\n",
       " 0.0,\n",
       " 0.0,\n",
       " 0.0,\n",
       " 0.0,\n",
       " 0.0,\n",
       " 0.0,\n",
       " 1.0,\n",
       " 0.0]"
      ]
     },
     "execution_count": 53,
     "metadata": {},
     "output_type": "execute_result"
    }
   ],
   "source": [
    "stats[0]"
   ]
  },
  {
   "cell_type": "code",
   "execution_count": 51,
   "metadata": {},
   "outputs": [
    {
     "ename": "TypeError",
     "evalue": "'zip' object is not subscriptable",
     "output_type": "error",
     "traceback": [
      "\u001b[1;31m---------------------------------------------------------------------------\u001b[0m",
      "\u001b[1;31mTypeError\u001b[0m                                 Traceback (most recent call last)",
      "\u001b[1;32mc:\\Users\\Nick\\Documents\\GitHub\\BetfairSpringCarnival\\src\\Dataset_generator.ipynb Cell 42\u001b[0m line \u001b[0;36m1\n\u001b[1;32m----> <a href='vscode-notebook-cell:/c%3A/Users/Nick/Documents/GitHub/BetfairSpringCarnival/src/Dataset_generator.ipynb#Y124sZmlsZQ%3D%3D?line=0'>1</a>\u001b[0m x[\u001b[39m0\u001b[39;49m]\n",
      "\u001b[1;31mTypeError\u001b[0m: 'zip' object is not subscriptable"
     ]
    }
   ],
   "source": [
    "x[0]"
   ]
  },
  {
   "cell_type": "code",
   "execution_count": 54,
   "metadata": {},
   "outputs": [],
   "source": [
    "# data = data.drop(columns=stats_cols)\n",
    "data['stats'] = stats"
   ]
  },
  {
   "cell_type": "code",
   "execution_count": 55,
   "metadata": {},
   "outputs": [
    {
     "data": {
      "text/plain": [
       "barrier\n",
       "2     63016\n",
       "1     63009\n",
       "3     62932\n",
       "4     62355\n",
       "5     60389\n",
       "6     56511\n",
       "7     50664\n",
       "8     43393\n",
       "9     35033\n",
       "10    26904\n",
       "11    18472\n",
       "12    12456\n",
       "13     6137\n",
       "14     3659\n",
       "15      935\n",
       "16      511\n",
       "17      101\n",
       "18       68\n",
       "19       14\n",
       "20        9\n",
       "Name: count, dtype: int64"
      ]
     },
     "execution_count": 55,
     "metadata": {},
     "output_type": "execute_result"
    }
   ],
   "source": [
    "data = data.query('barrier > 0 and barrier <=20')\n",
    "data.barrier.value_counts()"
   ]
  },
  {
   "cell_type": "code",
   "execution_count": 56,
   "metadata": {},
   "outputs": [],
   "source": [
    "data['box'] = data['barrier']"
   ]
  },
  {
   "cell_type": "code",
   "execution_count": 57,
   "metadata": {},
   "outputs": [],
   "source": [
    "data['runtime'] = data['ITimeToFin']\n",
    "data['race_grade'] = data['class']"
   ]
  },
  {
   "cell_type": "code",
   "execution_count": 58,
   "metadata": {},
   "outputs": [],
   "source": [
    "data['stats_cols'] = str([stats_cols])\n",
    "data['stats_cols'] = data['stats_cols'].astype('category')"
   ]
  },
  {
   "cell_type": "code",
   "execution_count": 59,
   "metadata": {},
   "outputs": [],
   "source": [
    "data = data[~data['isBarrierTrial']]"
   ]
  },
  {
   "cell_type": "code",
   "execution_count": 60,
   "metadata": {},
   "outputs": [],
   "source": [
    "data = data.reset_index(drop=True)"
   ]
  },
  {
   "cell_type": "code",
   "execution_count": 61,
   "metadata": {},
   "outputs": [
    {
     "data": {
      "text/plain": [
       "(473226, 121)"
      ]
     },
     "execution_count": 61,
     "metadata": {},
     "output_type": "execute_result"
    }
   ],
   "source": [
    "data.shape"
   ]
  },
  {
   "cell_type": "code",
   "execution_count": 62,
   "metadata": {},
   "outputs": [],
   "source": [
    "race = data[data['raceId']=='879552']"
   ]
  },
  {
   "cell_type": "code",
   "execution_count": 63,
   "metadata": {},
   "outputs": [
    {
     "data": {
      "text/plain": [
       "504    7\n",
       "505    5\n",
       "506    6\n",
       "507    2\n",
       "508    1\n",
       "509    8\n",
       "510    4\n",
       "511    3\n",
       "Name: barrier, dtype: int64"
      ]
     },
     "execution_count": 63,
     "metadata": {},
     "output_type": "execute_result"
    }
   ],
   "source": [
    "race.barrier"
   ]
  },
  {
   "cell_type": "code",
   "execution_count": 64,
   "metadata": {},
   "outputs": [
    {
     "data": {
      "text/plain": [
       "0.10331110705061572"
      ]
     },
     "execution_count": 64,
     "metadata": {},
     "output_type": "execute_result"
    }
   ],
   "source": [
    "data.goto.mean()"
   ]
  },
  {
   "cell_type": "code",
   "execution_count": 65,
   "metadata": {},
   "outputs": [],
   "source": [
    "empty_margin_list = [100]*20\n",
    "margin_list = [x for x in race[\"margin\"]]\n",
    "boxes_list = [int(x) for x in race['box']]\n",
    "for n,x in enumerate(boxes_list):\n",
    "    empty_margin_list[x-1] = margin_list[n]"
   ]
  },
  {
   "cell_type": "code",
   "execution_count": 66,
   "metadata": {},
   "outputs": [
    {
     "name": "stdout",
     "output_type": "stream",
     "text": [
      "[0.0, 1.9, 0.2, 1.3, 4.8, 3.9, 1.8, 0.1, 100, 100, 100, 100, 100, 100, 100, 100, 100, 100, 100, 100]\n"
     ]
    }
   ],
   "source": [
    "print(empty_margin_list)"
   ]
  },
  {
   "cell_type": "code",
   "execution_count": 67,
   "metadata": {},
   "outputs": [],
   "source": [
    "def boosted_softmin(input):\n",
    "    sft_min = nn.Softmin(dim=-1)\n",
    "    return sft_min(torch.exp(input))"
   ]
  },
  {
   "cell_type": "code",
   "execution_count": 68,
   "metadata": {},
   "outputs": [],
   "source": [
    "adjustedMargin = (boosted_softmin(torch.tensor(empty_margin_list)))"
   ]
  },
  {
   "cell_type": "code",
   "execution_count": 69,
   "metadata": {},
   "outputs": [
    {
     "data": {
      "text/plain": [
       "tensor([3.5963e-01, 1.2204e-03, 2.8820e-01, 2.4922e-02, 0.0000e+00, 3.4271e-22,\n",
       "        2.3058e-03, 3.2372e-01, 0.0000e+00, 0.0000e+00, 0.0000e+00, 0.0000e+00,\n",
       "        0.0000e+00, 0.0000e+00, 0.0000e+00, 0.0000e+00, 0.0000e+00, 0.0000e+00,\n",
       "        0.0000e+00, 0.0000e+00])"
      ]
     },
     "execution_count": 69,
     "metadata": {},
     "output_type": "execute_result"
    }
   ],
   "source": [
    "adjustedMargin"
   ]
  },
  {
   "cell_type": "code",
   "execution_count": 70,
   "metadata": {},
   "outputs": [
    {
     "data": {
      "text/plain": [
       "tensor([3.5963e-01, 1.2204e-03, 2.8820e-01, 2.4922e-02, 0.0000e+00, 3.4271e-22,\n",
       "        2.3058e-03, 3.2372e-01, 0.0000e+00, 0.0000e+00, 0.0000e+00, 0.0000e+00,\n",
       "        0.0000e+00, 0.0000e+00, 0.0000e+00, 0.0000e+00, 0.0000e+00, 0.0000e+00,\n",
       "        0.0000e+00, 0.0000e+00], device='cuda:0')"
      ]
     },
     "execution_count": 70,
     "metadata": {},
     "output_type": "execute_result"
    }
   ],
   "source": [
    "adjustedMargin.to('cuda:0')"
   ]
  },
  {
   "cell_type": "code",
   "execution_count": 71,
   "metadata": {},
   "outputs": [],
   "source": [
    "data.reset_index(drop=True).to_feather('horsey_racing_v1.fth')"
   ]
  },
  {
   "cell_type": "code",
   "execution_count": 72,
   "metadata": {},
   "outputs": [],
   "source": [
    "# data = data[data['raceId']=='891328']"
   ]
  },
  {
   "cell_type": "code",
   "execution_count": 73,
   "metadata": {},
   "outputs": [
    {
     "name": "stdout",
     "output_type": "stream",
     "text": [
      "        place  barrier\n",
      "0           5        2\n",
      "1           9        8\n",
      "2          10        1\n",
      "3           1        6\n",
      "4           6        9\n",
      "...       ...      ...\n",
      "473221      0       11\n",
      "473222      0        4\n",
      "473223      0        7\n",
      "473224      0        5\n",
      "473225      0        9\n",
      "\n",
      "[473226 rows x 2 columns]\n"
     ]
    }
   ],
   "source": [
    "print(data[['place','barrier']])"
   ]
  },
  {
   "cell_type": "code",
   "execution_count": 74,
   "metadata": {},
   "outputs": [
    {
     "name": "stdout",
     "output_type": "stream",
     "text": [
      "(473226, 121)\n"
     ]
    }
   ],
   "source": [
    "print(data.shape)\n",
    "# data = data."
   ]
  },
  {
   "cell_type": "code",
   "execution_count": 75,
   "metadata": {},
   "outputs": [
    {
     "data": {
      "text/plain": [
       "Index(['meetingId', 'raceId', 'horseId', 'meetingDate', 'track', 'trackAbbrev',\n",
       "       'State', 'MPC', 'railPosition', 'TABMeeting',\n",
       "       ...\n",
       "       'last_start_price', 'last_start_prob', 'dist_last__1', 'box_last__1',\n",
       "       'margin_fin_avg_1', 'margin_200_avg_1', 'margin_600_avg_1', 'stats',\n",
       "       'race_grade', 'stats_cols'],\n",
       "      dtype='object', length=121)"
      ]
     },
     "execution_count": 75,
     "metadata": {},
     "output_type": "execute_result"
    }
   ],
   "source": [
    "data.columns"
   ]
  },
  {
   "cell_type": "code",
   "execution_count": 76,
   "metadata": {},
   "outputs": [],
   "source": [
    "x = data.groupby('track')['barrier'].max()"
   ]
  },
  {
   "cell_type": "code",
   "execution_count": 77,
   "metadata": {},
   "outputs": [
    {
     "data": {
      "text/plain": [
       "barrier\n",
       "2     49030\n",
       "1     49025\n",
       "3     49017\n",
       "4     48890\n",
       "5     48290\n",
       "6     46666\n",
       "7     43525\n",
       "8     38789\n",
       "9     32450\n",
       "10    25604\n",
       "11    18157\n",
       "12    12352\n",
       "13     6134\n",
       "14     3659\n",
       "15      935\n",
       "16      511\n",
       "17      101\n",
       "18       68\n",
       "19       14\n",
       "20        9\n",
       "Name: count, dtype: int64"
      ]
     },
     "execution_count": 77,
     "metadata": {},
     "output_type": "execute_result"
    }
   ],
   "source": [
    "data.barrier.value_counts()"
   ]
  },
  {
   "cell_type": "code",
   "execution_count": 78,
   "metadata": {},
   "outputs": [
    {
     "data": {
      "text/plain": [
       "meetingId           9.652158\n",
       "horseId             9.652158\n",
       "meetingDate         9.652158\n",
       "track               9.652158\n",
       "trackAbbrev         9.652158\n",
       "                      ...   \n",
       "margin_200_avg_1    9.080893\n",
       "margin_600_avg_1    9.080893\n",
       "stats               9.652158\n",
       "race_grade          9.652158\n",
       "stats_cols          9.652158\n",
       "Length: 120, dtype: float64"
      ]
     },
     "execution_count": 78,
     "metadata": {},
     "output_type": "execute_result"
    }
   ],
   "source": [
    "data.groupby('raceId').count().mean()"
   ]
  },
  {
   "cell_type": "code",
   "execution_count": null,
   "metadata": {},
   "outputs": [],
   "source": []
  }
 ],
 "metadata": {
  "kernelspec": {
   "display_name": "PYTORCH",
   "language": "python",
   "name": "python3"
  },
  "language_info": {
   "codemirror_mode": {
    "name": "ipython",
    "version": 3
   },
   "file_extension": ".py",
   "mimetype": "text/x-python",
   "name": "python",
   "nbconvert_exporter": "python",
   "pygments_lexer": "ipython3",
   "version": "3.11.5"
  }
 },
 "nbformat": 4,
 "nbformat_minor": 2
}
